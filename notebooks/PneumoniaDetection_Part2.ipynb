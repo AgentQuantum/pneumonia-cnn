{
  "nbformat": 4,
  "nbformat_minor": 0,
  "metadata": {
    "colab": {
      "provenance": [],
      "include_colab_link": true
    },
    "kernelspec": {
      "name": "python3",
      "display_name": "Python 3"
    },
    "accelerator": "GPU"
  },
  "cells": [
    {
      "cell_type": "markdown",
      "metadata": {
        "id": "view-in-github",
        "colab_type": "text"
      },
      "source": [
        "<a href=\"https://colab.research.google.com/github/CrisZayn22/pneumonia-cnn/blob/main/notebooks/PneumoniaDetection_Part2.ipynb\" target=\"_parent\"><img src=\"https://colab.research.google.com/assets/colab-badge.svg\" alt=\"Open In Colab\"/></a>"
      ]
    },
    {
      "cell_type": "markdown",
      "metadata": {
        "id": "T4sLmjIuDpmY"
      },
      "source": [
        "![](https://storage.googleapis.com/kaggle-competitions/kaggle/10338/logos/header.png)"
      ]
    },
    {
      "cell_type": "markdown",
      "metadata": {
        "id": "3veiK-TXoGSV"
      },
      "source": [
        "Today, we'll use neural networks for pneumonia detection! We'll practice creating toy neural networks, apply neural networks (including Convolutional Neural Nets!) to our pneumonia data, and experiment with *transfer learning*: learning from an existing \"expert network\"."
      ]
    },
    {
      "cell_type": "markdown",
      "metadata": {
        "id": "Tsa9kzHFh4yU"
      },
      "source": [
        "In this notebook we'll be:\n",
        "1.   Building Neural Networks with Keras\n",
        "2.   Implementing Transfer Learning\n",
        "3.   Evalulating our ML models\n",
        "\n"
      ]
    },
    {
      "cell_type": "code",
      "metadata": {
        "id": "aSeClkWgIORK",
        "colab": {
          "base_uri": "https://localhost:8080/"
        },
        "outputId": "1e13bce7-af81-4055-d6d8-6d079c696d68"
      },
      "source": [
        "#@title Run this to download data and prepare our environment! { display-mode: \"form\" }\n",
        "#%tensorflow_version 1.x\n",
        "\n",
        "import gdown\n",
        "import zipfile\n",
        "\n",
        "import os\n",
        "import numpy as np\n",
        "import pandas as pd\n",
        "\n",
        "import seaborn as sns\n",
        "import matplotlib.pyplot as plt\n",
        "\n",
        "from sklearn.metrics import accuracy_score, confusion_matrix\n",
        "\n",
        "import tensorflow.keras as keras\n",
        "import keras.optimizers as optimizers\n",
        "from keras.models import Sequential\n",
        "from keras.layers import Activation, MaxPooling2D, Dropout, Flatten, Reshape, Dense, Conv2D, GlobalAveragePooling2D, BatchNormalization\n",
        "from keras.regularizers import l2\n",
        "from keras.callbacks import ModelCheckpoint\n",
        "\n",
        "from keras.applications.vgg16 import VGG16\n",
        "from keras.applications.vgg19 import VGG19\n",
        "from tensorflow.keras.applications.resnet50 import ResNet50\n",
        "from keras.applications.densenet import DenseNet121\n",
        "\n",
        "\n",
        "class pkg:\n",
        "  #### DOWNLOADING AND LOADING DATA\n",
        "  def get_metadata(metadata_path, which_splits = ['train', 'test']):\n",
        "    '''returns metadata dataframe which contains columns of:\n",
        "       * index: index of data into numpy data\n",
        "       * class: class of image\n",
        "       * split: which dataset split is this a part of?\n",
        "    '''\n",
        "    metadata = pd.read_csv(metadata_path)\n",
        "    keep_idx = metadata['split'].isin(which_splits)\n",
        "    return metadata[keep_idx]\n",
        "\n",
        "  def get_data_split(split_name, flatten, all_data, metadata, image_shape):\n",
        "    '''\n",
        "    returns images (data), labels from folder of format [image_folder]/[split_name]/[class_name]/\n",
        "    flattens if flatten option is True\n",
        "    '''\n",
        "    sub_df = metadata[metadata['split'].isin([split_name])]\n",
        "    index  = sub_df['index'].values\n",
        "    labels = sub_df['class'].values\n",
        "    data = all_data[index,:]\n",
        "    if flatten:\n",
        "      data = data.reshape([-1, np.product(image_shape)])\n",
        "    return data, labels\n",
        "\n",
        "  def get_train_data(flatten, all_data, metadata, image_shape):\n",
        "    return get_data_split('train', flatten, all_data, metadata, image_shape)\n",
        "\n",
        "  def get_test_data(flatten, all_data, metadata, image_shape):\n",
        "    return get_data_split('test', flatten, all_data, metadata, image_shape)\n",
        "\n",
        "  def get_field_data(flatten, all_data, metadata, image_shape):\n",
        "    return get_data_split('field', flatten, all_data, metadata, image_shape)\n",
        "\n",
        "class helpers:\n",
        "  #### PLOTTING\n",
        "  def plot_one_image(data, labels = [], index = None, image_shape = [64,64,3]):\n",
        "    '''\n",
        "    if data is a single image, display that image\n",
        "\n",
        "    if data is a 4d stack of images, display that image\n",
        "    '''\n",
        "    num_dims   = len(data.shape)\n",
        "    num_labels = len(labels)\n",
        "\n",
        "    # reshape data if necessary\n",
        "    if num_dims == 1:\n",
        "      data = data.reshape(target_shape)\n",
        "    if num_dims == 2:\n",
        "      data = data.reshape(np.vstack[-1, image_shape])\n",
        "    num_dims   = len(data.shape)\n",
        "\n",
        "    # check if single or multiple images\n",
        "    if num_dims == 3:\n",
        "      if num_labels > 1:\n",
        "        print('Multiple labels does not make sense for single image.')\n",
        "        return\n",
        "\n",
        "      label = labels\n",
        "      if num_labels == 0:\n",
        "        label = ''\n",
        "      image = data\n",
        "\n",
        "    if num_dims == 4:\n",
        "      image = data[index, :]\n",
        "      label = labels[index]\n",
        "\n",
        "    # plot image of interest\n",
        "    print('Label: %s'%label)\n",
        "    plt.imshow(image)\n",
        "    plt.show()\n",
        "\n",
        "  #### QUERYING AND COMBINING DATA\n",
        "  def get_misclassified_data(data, labels, predictions):\n",
        "    '''\n",
        "    Gets the data and labels that are misclassified in a classification task\n",
        "    Returns:\n",
        "    -missed_data\n",
        "    -missed_labels\n",
        "    -predicted_labels (corresponding to missed_labels)\n",
        "    -missed_index (indices of items in original dataset)\n",
        "    '''\n",
        "    missed_index     = np.where(np.abs(predictions.squeeze() - labels.squeeze()) > 0)[0]\n",
        "    missed_labels    = labels[missed_index]\n",
        "    missed_data      = data[missed_index,:]\n",
        "    predicted_labels = predictions[missed_index]\n",
        "    return missed_data, missed_labels, predicted_labels, missed_index\n",
        "\n",
        "  def combine_data(data_list, labels_list):\n",
        "    return np.concatenate(data_list, axis = 0), np.concatenate(labels_list, axis = 0)\n",
        "\n",
        "  def model_to_string(model):\n",
        "    import re\n",
        "    stringlist = []\n",
        "    model.summary(print_fn=lambda x: stringlist.append(x))\n",
        "    sms = \"\\n\".join(stringlist)\n",
        "    sms = re.sub('_\\d\\d\\d','', sms)\n",
        "    sms = re.sub('_\\d\\d','', sms)\n",
        "    sms = re.sub('_\\d','', sms)\n",
        "    return sms\n",
        "\n",
        "  def plot_acc(history, ax = None, xlabel = 'Epoch #'):\n",
        "    # i'm sorry for this function's code. i am so sorry.\n",
        "    history = history.history\n",
        "    history.update({'epoch':list(range(len(history['val_accuracy'])))})\n",
        "    history = pd.DataFrame.from_dict(history)\n",
        "\n",
        "    best_epoch = history.sort_values(by = 'val_accuracy', ascending = False).iloc[0]['epoch']\n",
        "\n",
        "    if not ax:\n",
        "      f, ax = plt.subplots(1,1)\n",
        "    sns.lineplot(x = 'epoch', y = 'val_accuracy', data = history, label = 'Validation', ax = ax)\n",
        "    sns.lineplot(x = 'epoch', y = 'accuracy', data = history, label = 'Training', ax = ax)\n",
        "    ax.axhline(0.5, linestyle = '--',color='red', label = 'Chance')\n",
        "    ax.axvline(x = best_epoch, linestyle = '--', color = 'green', label = 'Best Epoch')\n",
        "    ax.legend(loc = 4)\n",
        "    ax.set_ylim([0.4, 1])\n",
        "\n",
        "    ax.set_xlabel(xlabel)\n",
        "    ax.set_ylabel('Accuracy (Fraction)')\n",
        "\n",
        "    plt.show()\n",
        "\n",
        "class models:\n",
        "  def DenseClassifier(hidden_layer_sizes, nn_params):\n",
        "    model = Sequential()\n",
        "    model.add(Flatten(input_shape = nn_params['input_shape']))\n",
        "    model.add(Dropout(0.5))\n",
        "\n",
        "    for ilayer in hidden_layer_sizes:\n",
        "      model.add(Dense(ilayer, activation = 'relu'))\n",
        "      model.add(Dropout(0.5))\n",
        "\n",
        "    model.add(Dense(units = nn_params['output_neurons'], activation = nn_params['output_activation']))\n",
        "    model.compile(loss=nn_params['loss'],\n",
        "                  optimizer= keras.optimizers.SGD(learning_rate=1e-4, momentum=0.95),\n",
        "                  metrics=['accuracy'])\n",
        "    return model\n",
        "\n",
        "  def CNNClassifier(num_hidden_layers, nn_params):\n",
        "    model = Sequential()\n",
        "\n",
        "    model.add(Conv2D(32, (3, 3), input_shape=nn_params['input_shape'], padding = 'same', kernel_regularizer=l2(0.01), bias_regularizer=l2(0.01)))\n",
        "    model.add(Activation('relu'))\n",
        "    model.add(MaxPooling2D(pool_size=(2, 2)))\n",
        "\n",
        "    for i in range(num_hidden_layers-1):\n",
        "        model.add(Conv2D(64, (3, 3), padding = 'same', kernel_regularizer=l2(0.01), bias_regularizer=l2(0.01)))\n",
        "        model.add(Activation('relu'))\n",
        "        model.add(MaxPooling2D(pool_size=(2, 2)))\n",
        "\n",
        "    model.add(Flatten())\n",
        "\n",
        "    model.add(Dense(units = 128, activation = 'relu'))\n",
        "    model.add(Dropout(0.5))\n",
        "    model.add(Dense(units = 64, activation = 'relu', kernel_regularizer=l2(0.01), bias_regularizer=l2(0.01)))\n",
        "    model.add(Dropout(0.5))\n",
        "\n",
        "    model.add(Dense(units = nn_params['output_neurons'], activation = nn_params['output_activation']))\n",
        "\n",
        "    # initiate RMSprop optimizer\n",
        "    opt = keras.optimizers.RMSprop(learning_rate=1e-5, decay=1e-6)\n",
        "\n",
        "    # Let's train the model using RMSprop\n",
        "    model.compile(loss=nn_params['loss'],\n",
        "                  optimizer=opt,\n",
        "                  metrics=['accuracy'])\n",
        "    return model\n",
        "\n",
        "  def TransferClassifier(name, nn_params, trainable = True):\n",
        "    expert_dict = {'VGG16': VGG16,\n",
        "                   'VGG19': VGG19,\n",
        "                   'ResNet50':ResNet50,\n",
        "                   'DenseNet121':DenseNet121}\n",
        "\n",
        "    expert_conv = expert_dict[name](weights = 'imagenet',\n",
        "                                              include_top = False,\n",
        "                                              input_shape = nn_params['input_shape'])\n",
        "    for layer in expert_conv.layers:\n",
        "      layer.trainable = trainable\n",
        "\n",
        "    expert_model = Sequential()\n",
        "    expert_model.add(expert_conv)\n",
        "    expert_model.add(GlobalAveragePooling2D())\n",
        "\n",
        "    expert_model.add(Dense(128, activation = 'relu'))\n",
        "    expert_model.add(Dropout(0.5))\n",
        "\n",
        "    expert_model.add(Dense(64, activation = 'relu'))\n",
        "    expert_model.add(Dropout(0.5))\n",
        "\n",
        "    expert_model.add(Dense(nn_params['output_neurons'], activation = nn_params['output_activation']))\n",
        "\n",
        "    expert_model.compile(loss = nn_params['loss'],\n",
        "                  optimizer = keras.optimizers.SGD(learning_rate=1e-4, momentum=0.9),\n",
        "                  metrics=['accuracy'])\n",
        "\n",
        "    return expert_model\n",
        "\n",
        "### defining project variables\n",
        "# file variables\n",
        "metadata_url         = \"https://storage.googleapis.com/inspirit-ai-data-bucket-1/Data/AI%20Scholars/Sessions%206%20-%2010%20(Projects)/Project%20-%20(Healthcare%20A)%20Pneumonia/metadata.csv\"\n",
        "image_data_url       = 'https://storage.googleapis.com/inspirit-ai-data-bucket-1/Data/AI%20Scholars/Sessions%206%20-%2010%20(Projects)/Project%20-%20(Healthcare%20A)%20Pneumonia/image_data.npy'\n",
        "image_data_path      = './image_data.npy'\n",
        "metadata_path        = './metadata.csv'\n",
        "image_shape          = (64, 64, 3)\n",
        "\n",
        "# neural net parameters\n",
        "nn_params = {}\n",
        "nn_params['input_shape']       = image_shape\n",
        "nn_params['output_neurons']    = 1\n",
        "nn_params['loss']              = 'binary_crossentropy'\n",
        "nn_params['output_activation'] = 'sigmoid'\n",
        "\n",
        "###\n",
        "# gdown.download(image_data_url, './image_data.npy', True)\n",
        "# gdown.download(metadata_url, './metadata.csv', True)\n",
        "!wget \"https://storage.googleapis.com/inspirit-ai-data-bucket-1/Data/AI%20Scholars/Sessions%206%20-%2010%20(Projects)/Project%20-%20(Healthcare%20A)%20Pneumonia/metadata.csv\"\n",
        "!wget \"https://storage.googleapis.com/inspirit-ai-data-bucket-1/Data/AI%20Scholars/Sessions%206%20-%2010%20(Projects)/Project%20-%20(Healthcare%20A)%20Pneumonia/image_data.npy\"\n",
        "\n",
        "### pre-loading all data of interest\n",
        "_all_data = np.load('image_data.npy')\n",
        "_metadata = pkg.get_metadata(metadata_path, ['train','test','field'])\n",
        "\n",
        "### preparing definitions\n",
        "# downloading and loading data\n",
        "get_data_split = pkg.get_data_split\n",
        "get_metadata    = lambda :                 pkg.get_metadata(metadata_path, ['train','test'])\n",
        "get_train_data  = lambda flatten = False : pkg.get_train_data(flatten = flatten, all_data = _all_data, metadata = _metadata, image_shape = image_shape)\n",
        "get_test_data   = lambda flatten = False : pkg.get_test_data(flatten = flatten, all_data = _all_data, metadata = _metadata, image_shape = image_shape)\n",
        "get_field_data  = lambda flatten = False : pkg.get_field_data(flatten = flatten, all_data = _all_data, metadata = _metadata, image_shape = image_shape)\n",
        "\n",
        "# plotting\n",
        "plot_one_image = lambda data, labels = [], index = None: helpers.plot_one_image(data = data, labels = labels, index = index, image_shape = image_shape);\n",
        "plot_acc       = lambda history: helpers.plot_acc(history)\n",
        "\n",
        "# querying and combining data\n",
        "model_to_string        = lambda model: helpers.model_to_string(model)\n",
        "get_misclassified_data = helpers.get_misclassified_data;\n",
        "combine_data           = helpers.combine_data;\n",
        "\n",
        "# models with input parameters\n",
        "DenseClassifier     = lambda hidden_layer_sizes: models.DenseClassifier(hidden_layer_sizes = hidden_layer_sizes, nn_params = nn_params);\n",
        "CNNClassifier       = lambda num_hidden_layers: models.CNNClassifier(num_hidden_layers, nn_params = nn_params);\n",
        "TransferClassifier  = lambda name: models.TransferClassifier(name = name, nn_params = nn_params);\n",
        "\n",
        "monitor = ModelCheckpoint('./model.h5', monitor='val_accuracy', verbose=0, save_best_only=True, save_weights_only=False, mode='auto', save_freq='epoch')"
      ],
      "execution_count": null,
      "outputs": [
        {
          "output_type": "stream",
          "name": "stdout",
          "text": [
            "--2022-05-20 00:05:40--  https://storage.googleapis.com/inspirit-ai-data-bucket-1/Data/AI%20Scholars/Sessions%206%20-%2010%20(Projects)/Project%20-%20(Healthcare%20A)%20Pneumonia/metadata.csv\n",
            "Resolving storage.googleapis.com (storage.googleapis.com)... 74.125.200.128, 74.125.68.128, 74.125.24.128, ...\n",
            "Connecting to storage.googleapis.com (storage.googleapis.com)|74.125.200.128|:443... connected.\n",
            "HTTP request sent, awaiting response... 200 OK\n",
            "Length: 40508 (40K) [text/csv]\n",
            "Saving to: ‘metadata.csv.1’\n",
            "\n",
            "\rmetadata.csv.1        0%[                    ]       0  --.-KB/s               \rmetadata.csv.1      100%[===================>]  39.56K  --.-KB/s    in 0s      \n",
            "\n",
            "2022-05-20 00:05:40 (130 MB/s) - ‘metadata.csv.1’ saved [40508/40508]\n",
            "\n",
            "--2022-05-20 00:05:40--  https://storage.googleapis.com/inspirit-ai-data-bucket-1/Data/AI%20Scholars/Sessions%206%20-%2010%20(Projects)/Project%20-%20(Healthcare%20A)%20Pneumonia/image_data.npy\n",
            "Resolving storage.googleapis.com (storage.googleapis.com)... 142.251.10.128, 74.125.200.128, 74.125.68.128, ...\n",
            "Connecting to storage.googleapis.com (storage.googleapis.com)|142.251.10.128|:443... connected.\n",
            "HTTP request sent, awaiting response... 200 OK\n",
            "Length: 137625728 (131M) [application/octet-stream]\n",
            "Saving to: ‘image_data.npy.1’\n",
            "\n",
            "image_data.npy.1    100%[===================>] 131.25M  67.6MB/s    in 1.9s    \n",
            "\n",
            "2022-05-20 00:05:43 (67.6 MB/s) - ‘image_data.npy.1’ saved [137625728/137625728]\n",
            "\n"
          ]
        }
      ]
    },
    {
      "cell_type": "markdown",
      "metadata": {
        "id": "l-hvosCRrBGu"
      },
      "source": [
        "## Instructor-led Discussion: Steps for Building a NN in Keras"
      ]
    },
    {
      "cell_type": "markdown",
      "metadata": {
        "id": "SYqvCKWpKfRM"
      },
      "source": [
        "### What are neural networks?"
      ]
    },
    {
      "cell_type": "markdown",
      "metadata": {
        "id": "qA1Rc_u3KoJT"
      },
      "source": [
        "Just as we went over last week, neural networks look something like this:\n",
        "![A 2 layer neural network](https://cdn-images-1.medium.com/max/1600/1*DW0Ccmj1hZ0OvSXi7Kz5MQ.jpeg)\n"
      ]
    },
    {
      "cell_type": "markdown",
      "metadata": {
        "id": "3Q9S6SDcM8N9"
      },
      "source": [
        "Each orange and blue node is a neuron. The network itself is composed of a bunch of neurons that talk to each other and eventually give us a prediction. Let's get a bit more concrete with this..."
      ]
    },
    {
      "cell_type": "markdown",
      "metadata": {
        "id": "E--8mjToZYBp"
      },
      "source": [
        "To build neural networks in Python, we use the packages known as `tensorflow` and `keras`. Let's learn how to build and use these networks!"
      ]
    },
    {
      "cell_type": "code",
      "metadata": {
        "id": "cqFAnQCxsgRm"
      },
      "source": [
        "# grab tools from our tensorflow and keras toolboxes!\n",
        "import tensorflow.keras as keras\n",
        "from keras.models import Sequential\n",
        "from keras.layers import Activation, Dropout, Flatten, Dense, BatchNormalization\n",
        "from keras import optimizers"
      ],
      "execution_count": null,
      "outputs": []
    },
    {
      "cell_type": "markdown",
      "metadata": {
        "id": "fq4G0hDwZKnM"
      },
      "source": [
        "## Exercise (Coding): A 2-Layer Model"
      ]
    },
    {
      "cell_type": "markdown",
      "metadata": {
        "id": "Bj-Pt3wGCXRu"
      },
      "source": [
        "\n",
        "We're going to build this model:\n",
        "\n",
        "![](http://cs231n.github.io/assets/nn1/neural_net.jpeg)"
      ]
    },
    {
      "cell_type": "markdown",
      "metadata": {
        "id": "H-6WGeedvTCS"
      },
      "source": [
        "This network can be described as:\n",
        "* Input Layer: 3\n",
        "* Layer 1 (Hidden): 4 neurons with the `'relu'` activation function\n",
        "* Layer 2 (Output): 2 neurons with the `'softmax'` activation function\n",
        "\n",
        "We're going to set up a **Sequential** model by adding on a sequence of layers.\n",
        "\n",
        "Each layer will be **Dense**, meaning each neuron of the previous layer connects to each neuron of this layer.\n",
        "\n",
        "We'll compile our model to make it ready to use! We'll use:\n",
        "- `loss = 'categorical_crossentropy'` (how to measure the model's performance while it trains)\n",
        "- `optimizer = 'adam'` (an algorithm for adjusting the weights)\n",
        "- `metric = 'accuracy'` (how to measure the model's performance at the end)\n",
        "\n",
        "Try it out below!"
      ]
    },
    {
      "cell_type": "code",
      "metadata": {
        "id": "-zgA-wPfvCyK"
      },
      "source": [
        "# Fill in the blanks with your group!\n",
        "### YOUR CODE HERE:\n",
        "model_1 = Sequential()\n",
        "model_1.add(Dense(4, input_shape = (3,), activation = 'relu'))\n",
        "model_1.add(Dense(2, activation = 'softmax'))\n",
        "model_1.compile(loss='categorical_crossentropy',\n",
        "                optimizer = 'adam',\n",
        "                metrics = ['accuracy'])\n",
        "### END CODE"
      ],
      "execution_count": null,
      "outputs": []
    },
    {
      "cell_type": "code",
      "metadata": {
        "id": "uK_lyjxGpwv3",
        "colab": {
          "base_uri": "https://localhost:8080/",
          "height": 128
        },
        "outputId": "2288918c-cf41-4777-93fc-0525e703a299"
      },
      "source": [
        "#@title Double-click here if you want to read more detail!\n",
        "\"\"\"\n",
        "Let's walk though what each of these lines of code means!\n",
        "\n",
        "**1. Specify model**\n",
        "\n",
        "```\n",
        "model = Sequential()\n",
        "```\n",
        "In this line of code, we build our network where the information flows from LEFT to RIGHT through the network in ONE DIRECTION as opposed to multiple directions. Neurons on the right never pass informations to neurons on the left of it.\n",
        "\n",
        "\n",
        "**2. Add layers to the network**\n",
        "```\n",
        "model.add(Dense(4,input_shape = (3,), activation = 'softmax'))\n",
        "```\n",
        "In this code, we `add` a `layer` of neurons to our network.\n",
        "\n",
        "This layers consists of 4 neurons. Each neuron is DENSE and connects to all of the previous layer's inputs and all of the subsequent layers outputs. We specify that there are 3 inputs here.\n",
        "\n",
        "We also specify what kind of output the neuron will give. If you want the neuron to output a number between 0 and 1 (like a probability!) you would use 'softmax' or 'softmax'. If you want the neuron to output any number, you can use 'linear'! You'll also often see 'relu', which is when a neuron will only output positive numbers.\n",
        "\n",
        "```\n",
        "model.add(Dense(1, activation = 'linear'))\n",
        "```\n",
        "This code adds ANOTHER layer to the network that has 1 neuron. This one neuron is used to predict a continuous value!\n",
        "\n",
        "**3. Turn the model on by compiling it**\n",
        "\n",
        "After having built the network, we want to train and use it, so we have to 'turn it on' and 'compile' it. To turn it on, we have to specify at the very least, a loss, an optimizer, and some ways of evaluating the model (metrics). Don't worry too much about what this means! Just know that this is necessary.\n",
        "\n",
        "```\n",
        "model.compile(loss='mean_squared_error',\n",
        "optimizer = 'adam',\n",
        "metrics = ['mean_squared_error'])\n",
        "  ```\n",
        "\"\"\""
      ],
      "execution_count": null,
      "outputs": [
        {
          "output_type": "execute_result",
          "data": {
            "text/plain": [
              "\"\\nLet's walk though what each of these lines of code means!\\n\\n**1. Specify model**\\n\\n```\\nmodel = Sequential()\\n```\\nIn this line of code, we build our network where the information flows from LEFT to RIGHT through the network in ONE DIRECTION as opposed to multiple directions. Neurons on the right never pass informations to neurons on the left of it. \\n\\n\\n**2. Add layers to the network**\\n```\\nmodel.add(Dense(4,input_shape = (3,), activation = 'softmax'))\\n```\\nIn this code, we `add` a `layer` of neurons to our network. \\n\\nThis layers consists of 4 neurons. Each neuron is DENSE and connects to all of the previous layer's inputs and all of the subsequent layers outputs. We specify that there are 3 inputs here.\\n\\nWe also specify what kind of output the neuron will give. If you want the neuron to output a number between 0 and 1 (like a probability!) you would use 'softmax' or 'softmax'. If you want the neuron to output any number, you can use 'linear'! You'll also often see 'relu', which is when a neuron will only output positive numbers. \\n\\n```\\nmodel.add(Dense(1, activation = 'linear'))\\n```\\nThis code adds ANOTHER layer to the network that has 1 neuron. This one neuron is used to predict a continuous value!\\n\\n**3. Turn the model on by compiling it** \\n\\nAfter having built the network, we want to train and use it, so we have to 'turn it on' and 'compile' it. To turn it on, we have to specify at the very least, a loss, an optimizer, and some ways of evaluating the model (metrics). Don't worry too much about what this means! Just know that this is necessary. \\n\\n```\\nmodel.compile(loss='mean_squared_error',\\noptimizer = 'adam',\\nmetrics = ['mean_squared_error'])\\n  ```\\n\""
            ],
            "application/vnd.google.colaboratory.intrinsic+json": {
              "type": "string"
            }
          },
          "metadata": {},
          "execution_count": 6
        }
      ]
    },
    {
      "cell_type": "code",
      "metadata": {
        "id": "IH2UGOK4vuZ4",
        "cellView": "form",
        "colab": {
          "base_uri": "https://localhost:8080/"
        },
        "outputId": "11cb0991-0c60-4d7c-9802-f35ba780eea1"
      },
      "source": [
        "#@title Run this to test if your model is right!\n",
        "model_1_answer = Sequential()\n",
        "model_1_answer.add(Dense(4, input_shape = (3,), activation = 'relu'))\n",
        "model_1_answer.add(Dense(2, activation = 'softmax'))\n",
        "model_1_answer.compile(loss='categorical_crossentropy',\n",
        "optimizer = 'adam',\n",
        "metrics = ['accuracy'])\n",
        "\n",
        "model_1_config = model_1.get_config()\n",
        "\n",
        "del model_1_config[\"name\"]\n",
        "for layer in model_1_config[\"layers\"]:\n",
        "  del layer[\"config\"][\"name\"]\n",
        "\n",
        "model_1_answer_config = model_1_answer.get_config()\n",
        "\n",
        "del model_1_answer_config[\"name\"]\n",
        "for layer in model_1_answer_config[\"layers\"]:\n",
        "  del layer[\"config\"][\"name\"]\n",
        "\n",
        "if model_1_answer_config == model_1_config:\n",
        "  print('Good job! Your model worked')\n",
        "else:\n",
        "  print('Please check your code again!')\n",
        "\n",
        "# Old Code\n",
        "# if model_to_string(model_1) == model_to_string(model_1_answer):\n",
        "#   print('Good job! Your model worked')\n",
        "# else:\n",
        "#   print('Please check your code again!')"
      ],
      "execution_count": null,
      "outputs": [
        {
          "output_type": "stream",
          "name": "stdout",
          "text": [
            "Good job! Your model worked\n"
          ]
        }
      ]
    },
    {
      "cell_type": "markdown",
      "metadata": {
        "id": "GNBg8obslWlo"
      },
      "source": [
        "This is a toy example, so we won't train our model with real data - but we can feed in some fake inputs to see what happens! **How many inputs do we need?**\n"
      ]
    },
    {
      "cell_type": "code",
      "metadata": {
        "id": "vE_C03CplcyY"
      },
      "source": [
        "input_data = [[[]]] #Fill in inputs here! How many?"
      ],
      "execution_count": null,
      "outputs": []
    },
    {
      "cell_type": "markdown",
      "metadata": {
        "id": "IJMbtRllotiY"
      },
      "source": [
        "Let's try it out! What do **predict** and **predict_classes** do? How do you interpret the outputs?"
      ]
    },
    {
      "cell_type": "code",
      "metadata": {
        "id": "JIiU4_ngotGh",
        "colab": {
          "base_uri": "https://localhost:8080/",
          "height": 344
        },
        "outputId": "00aff7c6-3f9e-4713-8d61-f643c4adcee1"
      },
      "source": [
        "print(model_1.predict(input_data))\n",
        "print((model_1.predict(input_data) > 0.5).astype(\"int32\"))"
      ],
      "execution_count": null,
      "outputs": [
        {
          "output_type": "error",
          "ename": "KeyError",
          "evalue": "ignored",
          "traceback": [
            "\u001b[0;31m---------------------------------------------------------------------------\u001b[0m",
            "\u001b[0;31mKeyError\u001b[0m                                  Traceback (most recent call last)",
            "\u001b[0;32m<ipython-input-11-d629f15d5c5b>\u001b[0m in \u001b[0;36m<module>\u001b[0;34m()\u001b[0m\n\u001b[0;32m----> 1\u001b[0;31m \u001b[0mprint\u001b[0m\u001b[0;34m(\u001b[0m\u001b[0mmodel_1\u001b[0m\u001b[0;34m.\u001b[0m\u001b[0mpredict\u001b[0m\u001b[0;34m(\u001b[0m\u001b[0minput_data\u001b[0m\u001b[0;34m)\u001b[0m\u001b[0;34m)\u001b[0m\u001b[0;34m\u001b[0m\u001b[0;34m\u001b[0m\u001b[0m\n\u001b[0m\u001b[1;32m      2\u001b[0m \u001b[0mprint\u001b[0m\u001b[0;34m(\u001b[0m\u001b[0;34m(\u001b[0m\u001b[0mmodel_1\u001b[0m\u001b[0;34m.\u001b[0m\u001b[0mpredict\u001b[0m\u001b[0;34m(\u001b[0m\u001b[0minput_data\u001b[0m\u001b[0;34m)\u001b[0m \u001b[0;34m>\u001b[0m \u001b[0;36m0.5\u001b[0m\u001b[0;34m)\u001b[0m\u001b[0;34m.\u001b[0m\u001b[0mastype\u001b[0m\u001b[0;34m(\u001b[0m\u001b[0;34m\"int32\"\u001b[0m\u001b[0;34m)\u001b[0m\u001b[0;34m)\u001b[0m\u001b[0;34m\u001b[0m\u001b[0;34m\u001b[0m\u001b[0m\n",
            "\u001b[0;32m/usr/local/lib/python3.7/dist-packages/keras/utils/traceback_utils.py\u001b[0m in \u001b[0;36merror_handler\u001b[0;34m(*args, **kwargs)\u001b[0m\n\u001b[1;32m     65\u001b[0m     \u001b[0;32mexcept\u001b[0m \u001b[0mException\u001b[0m \u001b[0;32mas\u001b[0m \u001b[0me\u001b[0m\u001b[0;34m:\u001b[0m  \u001b[0;31m# pylint: disable=broad-except\u001b[0m\u001b[0;34m\u001b[0m\u001b[0;34m\u001b[0m\u001b[0m\n\u001b[1;32m     66\u001b[0m       \u001b[0mfiltered_tb\u001b[0m \u001b[0;34m=\u001b[0m \u001b[0m_process_traceback_frames\u001b[0m\u001b[0;34m(\u001b[0m\u001b[0me\u001b[0m\u001b[0;34m.\u001b[0m\u001b[0m__traceback__\u001b[0m\u001b[0;34m)\u001b[0m\u001b[0;34m\u001b[0m\u001b[0;34m\u001b[0m\u001b[0m\n\u001b[0;32m---> 67\u001b[0;31m       \u001b[0;32mraise\u001b[0m \u001b[0me\u001b[0m\u001b[0;34m.\u001b[0m\u001b[0mwith_traceback\u001b[0m\u001b[0;34m(\u001b[0m\u001b[0mfiltered_tb\u001b[0m\u001b[0;34m)\u001b[0m \u001b[0;32mfrom\u001b[0m \u001b[0;32mNone\u001b[0m\u001b[0;34m\u001b[0m\u001b[0;34m\u001b[0m\u001b[0m\n\u001b[0m\u001b[1;32m     68\u001b[0m     \u001b[0;32mfinally\u001b[0m\u001b[0;34m:\u001b[0m\u001b[0;34m\u001b[0m\u001b[0;34m\u001b[0m\u001b[0m\n\u001b[1;32m     69\u001b[0m       \u001b[0;32mdel\u001b[0m \u001b[0mfiltered_tb\u001b[0m\u001b[0;34m\u001b[0m\u001b[0;34m\u001b[0m\u001b[0m\n",
            "\u001b[0;32m/usr/local/lib/python3.7/dist-packages/keras/engine/data_adapter.py\u001b[0m in \u001b[0;36m__init__\u001b[0;34m(self, x, y, sample_weights, sample_weight_modes, batch_size, epochs, steps, shuffle, **kwargs)\u001b[0m\n\u001b[1;32m    244\u001b[0m     \u001b[0minputs\u001b[0m \u001b[0;34m=\u001b[0m \u001b[0mpack_x_y_sample_weight\u001b[0m\u001b[0;34m(\u001b[0m\u001b[0mx\u001b[0m\u001b[0;34m,\u001b[0m \u001b[0my\u001b[0m\u001b[0;34m,\u001b[0m \u001b[0msample_weights\u001b[0m\u001b[0;34m)\u001b[0m\u001b[0;34m\u001b[0m\u001b[0;34m\u001b[0m\u001b[0m\n\u001b[1;32m    245\u001b[0m \u001b[0;34m\u001b[0m\u001b[0m\n\u001b[0;32m--> 246\u001b[0;31m     \u001b[0mnum_samples\u001b[0m \u001b[0;34m=\u001b[0m \u001b[0mset\u001b[0m\u001b[0;34m(\u001b[0m\u001b[0mint\u001b[0m\u001b[0;34m(\u001b[0m\u001b[0mi\u001b[0m\u001b[0;34m.\u001b[0m\u001b[0mshape\u001b[0m\u001b[0;34m[\u001b[0m\u001b[0;36m0\u001b[0m\u001b[0;34m]\u001b[0m\u001b[0;34m)\u001b[0m \u001b[0;32mfor\u001b[0m \u001b[0mi\u001b[0m \u001b[0;32min\u001b[0m \u001b[0mtf\u001b[0m\u001b[0;34m.\u001b[0m\u001b[0mnest\u001b[0m\u001b[0;34m.\u001b[0m\u001b[0mflatten\u001b[0m\u001b[0;34m(\u001b[0m\u001b[0minputs\u001b[0m\u001b[0;34m)\u001b[0m\u001b[0;34m)\u001b[0m\u001b[0;34m.\u001b[0m\u001b[0mpop\u001b[0m\u001b[0;34m(\u001b[0m\u001b[0;34m)\u001b[0m\u001b[0;34m\u001b[0m\u001b[0;34m\u001b[0m\u001b[0m\n\u001b[0m\u001b[1;32m    247\u001b[0m     \u001b[0m_check_data_cardinality\u001b[0m\u001b[0;34m(\u001b[0m\u001b[0minputs\u001b[0m\u001b[0;34m)\u001b[0m\u001b[0;34m\u001b[0m\u001b[0;34m\u001b[0m\u001b[0m\n\u001b[1;32m    248\u001b[0m \u001b[0;34m\u001b[0m\u001b[0m\n",
            "\u001b[0;31mKeyError\u001b[0m: 'pop from an empty set'"
          ]
        }
      ]
    },
    {
      "cell_type": "markdown",
      "metadata": {
        "id": "ypsWJtgSl_OJ"
      },
      "source": [
        "**How many outputs** are there? How would you interpret them?"
      ]
    },
    {
      "cell_type": "markdown",
      "metadata": {
        "id": "g9CmrRkgT5ZS"
      },
      "source": [
        "# Milestone 2. Exploring Neural Networks\n",
        "\n",
        "Now, let's apply neural networks to our medical imaging problem!"
      ]
    },
    {
      "cell_type": "markdown",
      "metadata": {
        "id": "PD3Z0QamJF68"
      },
      "source": [
        "\n",
        "In our problem, we are given `images` of shape `(64,64,3)`, each assigned a label PNEUMONIA or HEALTHY. We want to identify the key things that we need to design our network.\n",
        "\n",
        "In your group, discuss:\n",
        "\n",
        "* What are our inputs?\n",
        "* What is/are our outputs?\n",
        "\n",
        "How could this look in a neural network diagram?\n",
        "\n",
        "**Brainstorm and sketch out a neural network that would work for this problem, and share with the group!**\n",
        "\n",
        "**Optional Exercise:** Following the setup from Notebook 1, create and test a neural network using Scikit-learn for this problem. [MLPClassifier](https://scikit-learn.org/stable/modules/generated/sklearn.neural_network.MLPClassifier.html) gives you a simple neural network!"
      ]
    },
    {
      "cell_type": "code",
      "metadata": {
        "id": "s2fStUprqjmY"
      },
      "source": [
        "#YOUR CODE HERE\n",
        "from sklearn.neural_network import MLPClassifier\n",
        "\n",
        "(train_data, train_labels) = get_train_data(flatten = True)\n",
        "(test_data, test_labels) = get_test_data(flatten = True)\n",
        "\n",
        "#YOUR CODE HERE"
      ],
      "execution_count": null,
      "outputs": []
    },
    {
      "cell_type": "markdown",
      "metadata": {
        "id": "S0xP2sDhOf4M"
      },
      "source": [
        "## Activity 2a. Challenging pneumonia with our models"
      ]
    },
    {
      "cell_type": "markdown",
      "metadata": {
        "id": "47bngTjCT_pM"
      },
      "source": [
        "Now, let's try out 'Convolutional Neural Networks'! Convolutional neural networks are networks that process images much like our visual system does. We'll use a Keras wrapper that abstracts away the details - talk to your instructor if you're interested in exploring CNN with more details!\n",
        "\n",
        "First, let's get our data. **Why do we not use flattened data for CNNs?**\n",
        "\n"
      ]
    },
    {
      "cell_type": "code",
      "metadata": {
        "id": "YeA8gWV6sqai"
      },
      "source": [
        "train_data, train_labels = get_train_data()\n",
        "test_data, test_labels = get_test_data()"
      ],
      "execution_count": null,
      "outputs": []
    },
    {
      "cell_type": "markdown",
      "metadata": {
        "id": "01ayM3u3sXA-"
      },
      "source": [
        "### Creating Models\n",
        "Now, let's create a model! In fact, let's create two:\n",
        "\n",
        "\n",
        "For a \"vanilla\" neural network:\n",
        "\n",
        "```\n",
        "dense = DenseClassifier(hidden_layer_sizes = (64,32))\n",
        "```\n",
        "* hidden_layer_sizes: the number of neurons in each hidden layer\n",
        "* epochs: the number of times that our network trains on all of the training data\n",
        "\n",
        "\n",
        "For a convolutional neural network:\n",
        "```\n",
        "cnn = CNNClassifier(num_hidden_layers = 1)\n",
        "```\n",
        "* num_hidden_layers: the number of hidden layers\n",
        "\n",
        "**Create your models below!** Use any hidden layer sizes you like."
      ]
    },
    {
      "cell_type": "code",
      "metadata": {
        "id": "YTb16LvwtGNW"
      },
      "source": [
        "dense = DenseClassifier(hidden_layer_sizes = (80,45))\n",
        "cnn = CNNClassifier(num_hidden_layers = 6)\n"
      ],
      "execution_count": null,
      "outputs": []
    },
    {
      "cell_type": "markdown",
      "metadata": {
        "id": "pIFymjNnsNPC"
      },
      "source": [
        "### Fitting and Scoring\n",
        "Now, let's fit  our models!\n",
        "\n",
        "There are default parameters to `.fit` you can call:\n",
        "\n",
        "```\n",
        "model_history = model.fit(train_data, train_labels, epochs = 100, validation_data = (test_data, test_labels), shuffle = True, callbacks = [monitor])\n",
        "```\n",
        "\n",
        "The `shuffle` parameter is important for shuffling the training data before each epoch. The `monitor` callback is used to get a view on internal states and statistics of the model during training. Please don't change these parameters!\n",
        "\n",
        "**Fit your models below!**"
      ]
    },
    {
      "cell_type": "code",
      "metadata": {
        "id": "oUgtK9n6t2CU",
        "colab": {
          "base_uri": "https://localhost:8080/"
        },
        "outputId": "48cfd706-6f4e-46ba-ab35-aaf97a7f1912"
      },
      "source": [
        "model_history1 = dense.fit(train_data, train_labels, epochs =100, validation_data = (test_data, test_labels), shuffle = True, callbacks = [monitor])\n"
      ],
      "execution_count": null,
      "outputs": [
        {
          "output_type": "stream",
          "name": "stdout",
          "text": [
            "Epoch 1/10\n",
            "63/63 [==============================] - 0s 5ms/step - loss: 0.2432 - accuracy: 0.9095 - val_loss: 0.6315 - val_accuracy: 0.7050\n",
            "Epoch 2/10\n",
            "63/63 [==============================] - 0s 5ms/step - loss: 0.2244 - accuracy: 0.9140 - val_loss: 0.5909 - val_accuracy: 0.7300\n",
            "Epoch 3/10\n",
            "63/63 [==============================] - 0s 4ms/step - loss: 0.2386 - accuracy: 0.9025 - val_loss: 0.5226 - val_accuracy: 0.7275\n",
            "Epoch 4/10\n",
            "63/63 [==============================] - 0s 5ms/step - loss: 0.2299 - accuracy: 0.9190 - val_loss: 0.6081 - val_accuracy: 0.7225\n",
            "Epoch 5/10\n",
            "63/63 [==============================] - 0s 6ms/step - loss: 0.2338 - accuracy: 0.9080 - val_loss: 0.5616 - val_accuracy: 0.7325\n",
            "Epoch 6/10\n",
            "63/63 [==============================] - 0s 5ms/step - loss: 0.2189 - accuracy: 0.9140 - val_loss: 0.5032 - val_accuracy: 0.7525\n",
            "Epoch 7/10\n",
            "63/63 [==============================] - 0s 5ms/step - loss: 0.2314 - accuracy: 0.9135 - val_loss: 0.5212 - val_accuracy: 0.7375\n",
            "Epoch 8/10\n",
            "63/63 [==============================] - 0s 4ms/step - loss: 0.2203 - accuracy: 0.9130 - val_loss: 0.6160 - val_accuracy: 0.7225\n",
            "Epoch 9/10\n",
            "63/63 [==============================] - 0s 5ms/step - loss: 0.2287 - accuracy: 0.9180 - val_loss: 0.6562 - val_accuracy: 0.7050\n",
            "Epoch 10/10\n",
            "63/63 [==============================] - 0s 4ms/step - loss: 0.2302 - accuracy: 0.9120 - val_loss: 0.6698 - val_accuracy: 0.7050\n"
          ]
        }
      ]
    },
    {
      "cell_type": "code",
      "source": [
        "model_history2 = cnn.fit(train_data, train_labels, epochs = 100, validation_data = (test_data, test_labels), shuffle = True, callbacks = [monitor])"
      ],
      "metadata": {
        "colab": {
          "base_uri": "https://localhost:8080/"
        },
        "id": "s8iulyq1_UQz",
        "outputId": "a0567fc7-c1b7-423e-90e3-432cfcaa4037"
      },
      "execution_count": null,
      "outputs": [
        {
          "output_type": "stream",
          "name": "stdout",
          "text": [
            "Epoch 1/100\n",
            "63/63 [==============================] - 12s 17ms/step - loss: 4.5310 - accuracy: 0.5005 - val_loss: 4.4884 - val_accuracy: 0.5000\n",
            "Epoch 2/100\n",
            "63/63 [==============================] - 1s 10ms/step - loss: 4.4500 - accuracy: 0.4770 - val_loss: 4.4088 - val_accuracy: 0.5000\n",
            "Epoch 3/100\n",
            "63/63 [==============================] - 1s 10ms/step - loss: 4.3703 - accuracy: 0.5080 - val_loss: 4.3302 - val_accuracy: 0.5000\n",
            "Epoch 4/100\n",
            "63/63 [==============================] - 1s 9ms/step - loss: 4.2917 - accuracy: 0.5095 - val_loss: 4.2525 - val_accuracy: 0.5000\n",
            "Epoch 5/100\n",
            "63/63 [==============================] - 1s 10ms/step - loss: 4.2149 - accuracy: 0.5020 - val_loss: 4.1756 - val_accuracy: 0.5000\n",
            "Epoch 6/100\n",
            "63/63 [==============================] - 1s 9ms/step - loss: 4.1386 - accuracy: 0.5055 - val_loss: 4.0999 - val_accuracy: 0.5000\n",
            "Epoch 7/100\n",
            "63/63 [==============================] - 1s 10ms/step - loss: 4.0633 - accuracy: 0.5005 - val_loss: 4.0251 - val_accuracy: 0.5000\n",
            "Epoch 8/100\n",
            "63/63 [==============================] - 1s 10ms/step - loss: 3.9888 - accuracy: 0.5100 - val_loss: 3.9517 - val_accuracy: 0.5000\n",
            "Epoch 9/100\n",
            "63/63 [==============================] - 1s 9ms/step - loss: 3.9164 - accuracy: 0.4995 - val_loss: 3.8791 - val_accuracy: 0.5000\n",
            "Epoch 10/100\n",
            "63/63 [==============================] - 1s 9ms/step - loss: 3.8443 - accuracy: 0.5080 - val_loss: 3.8076 - val_accuracy: 0.5000\n",
            "Epoch 11/100\n",
            "63/63 [==============================] - 1s 9ms/step - loss: 3.7734 - accuracy: 0.5005 - val_loss: 3.7372 - val_accuracy: 0.5000\n",
            "Epoch 12/100\n",
            "63/63 [==============================] - 1s 10ms/step - loss: 3.7034 - accuracy: 0.4950 - val_loss: 3.6677 - val_accuracy: 0.5000\n",
            "Epoch 13/100\n",
            "63/63 [==============================] - 1s 10ms/step - loss: 3.6347 - accuracy: 0.4925 - val_loss: 3.5992 - val_accuracy: 0.5000\n",
            "Epoch 14/100\n",
            "63/63 [==============================] - 1s 9ms/step - loss: 3.5660 - accuracy: 0.5270 - val_loss: 3.5318 - val_accuracy: 0.5000\n",
            "Epoch 15/100\n",
            "63/63 [==============================] - 1s 9ms/step - loss: 3.4994 - accuracy: 0.5090 - val_loss: 3.4654 - val_accuracy: 0.5000\n",
            "Epoch 16/100\n",
            "63/63 [==============================] - 1s 9ms/step - loss: 3.4334 - accuracy: 0.5195 - val_loss: 3.4001 - val_accuracy: 0.5000\n",
            "Epoch 17/100\n",
            "63/63 [==============================] - 1s 10ms/step - loss: 3.3685 - accuracy: 0.5095 - val_loss: 3.3358 - val_accuracy: 0.5000\n",
            "Epoch 18/100\n",
            "63/63 [==============================] - 1s 10ms/step - loss: 3.3045 - accuracy: 0.5240 - val_loss: 3.2725 - val_accuracy: 0.5000\n",
            "Epoch 19/100\n",
            "63/63 [==============================] - 1s 9ms/step - loss: 3.2423 - accuracy: 0.5055 - val_loss: 3.2103 - val_accuracy: 0.5000\n",
            "Epoch 20/100\n",
            "63/63 [==============================] - 1s 9ms/step - loss: 3.1806 - accuracy: 0.5155 - val_loss: 3.1491 - val_accuracy: 0.5000\n",
            "Epoch 21/100\n",
            "63/63 [==============================] - 1s 9ms/step - loss: 3.1198 - accuracy: 0.5130 - val_loss: 3.0889 - val_accuracy: 0.5000\n",
            "Epoch 22/100\n",
            "63/63 [==============================] - 1s 10ms/step - loss: 3.0598 - accuracy: 0.5435 - val_loss: 3.0298 - val_accuracy: 0.5000\n",
            "Epoch 23/100\n",
            "63/63 [==============================] - 1s 10ms/step - loss: 3.0014 - accuracy: 0.5115 - val_loss: 2.9717 - val_accuracy: 0.5000\n",
            "Epoch 24/100\n",
            "63/63 [==============================] - 1s 10ms/step - loss: 2.9438 - accuracy: 0.5125 - val_loss: 2.9146 - val_accuracy: 0.5075\n",
            "Epoch 25/100\n",
            "63/63 [==============================] - 1s 9ms/step - loss: 2.8870 - accuracy: 0.5540 - val_loss: 2.8585 - val_accuracy: 0.5075\n",
            "Epoch 26/100\n",
            "63/63 [==============================] - 1s 10ms/step - loss: 2.8317 - accuracy: 0.5310 - val_loss: 2.8035 - val_accuracy: 0.5050\n",
            "Epoch 27/100\n",
            "63/63 [==============================] - 1s 9ms/step - loss: 2.7771 - accuracy: 0.5310 - val_loss: 2.7494 - val_accuracy: 0.5125\n",
            "Epoch 28/100\n",
            "63/63 [==============================] - 1s 10ms/step - loss: 2.7234 - accuracy: 0.5505 - val_loss: 2.6963 - val_accuracy: 0.5125\n",
            "Epoch 29/100\n",
            "63/63 [==============================] - 1s 10ms/step - loss: 2.6708 - accuracy: 0.5400 - val_loss: 2.6442 - val_accuracy: 0.5475\n",
            "Epoch 30/100\n",
            "63/63 [==============================] - 1s 10ms/step - loss: 2.6193 - accuracy: 0.5580 - val_loss: 2.5932 - val_accuracy: 0.7625\n",
            "Epoch 31/100\n",
            "63/63 [==============================] - 1s 10ms/step - loss: 2.5686 - accuracy: 0.5640 - val_loss: 2.5431 - val_accuracy: 0.7600\n",
            "Epoch 32/100\n",
            "63/63 [==============================] - 1s 9ms/step - loss: 2.5191 - accuracy: 0.5475 - val_loss: 2.4940 - val_accuracy: 0.7675\n",
            "Epoch 33/100\n",
            "63/63 [==============================] - 1s 10ms/step - loss: 2.4704 - accuracy: 0.5755 - val_loss: 2.4459 - val_accuracy: 0.7675\n",
            "Epoch 34/100\n",
            "63/63 [==============================] - 1s 10ms/step - loss: 2.4228 - accuracy: 0.5580 - val_loss: 2.3987 - val_accuracy: 0.7875\n",
            "Epoch 35/100\n",
            "63/63 [==============================] - 1s 10ms/step - loss: 2.3761 - accuracy: 0.5655 - val_loss: 2.3526 - val_accuracy: 0.7125\n",
            "Epoch 36/100\n",
            "63/63 [==============================] - 1s 10ms/step - loss: 2.3304 - accuracy: 0.5640 - val_loss: 2.3073 - val_accuracy: 0.6125\n",
            "Epoch 37/100\n",
            "63/63 [==============================] - 1s 9ms/step - loss: 2.2857 - accuracy: 0.5640 - val_loss: 2.2631 - val_accuracy: 0.5100\n",
            "Epoch 38/100\n",
            "63/63 [==============================] - 1s 9ms/step - loss: 2.2420 - accuracy: 0.5580 - val_loss: 2.2199 - val_accuracy: 0.5025\n",
            "Epoch 39/100\n",
            "63/63 [==============================] - 1s 10ms/step - loss: 2.1992 - accuracy: 0.5595 - val_loss: 2.1775 - val_accuracy: 0.5000\n",
            "Epoch 40/100\n",
            "63/63 [==============================] - 1s 10ms/step - loss: 2.1573 - accuracy: 0.5435 - val_loss: 2.1361 - val_accuracy: 0.5000\n",
            "Epoch 41/100\n",
            "63/63 [==============================] - 1s 10ms/step - loss: 2.1163 - accuracy: 0.5400 - val_loss: 2.0956 - val_accuracy: 0.5000\n",
            "Epoch 42/100\n",
            "63/63 [==============================] - 1s 9ms/step - loss: 2.0763 - accuracy: 0.5370 - val_loss: 2.0560 - val_accuracy: 0.5000\n",
            "Epoch 43/100\n",
            "63/63 [==============================] - 1s 10ms/step - loss: 2.0372 - accuracy: 0.5265 - val_loss: 2.0174 - val_accuracy: 0.5000\n",
            "Epoch 44/100\n",
            "63/63 [==============================] - 1s 10ms/step - loss: 1.9989 - accuracy: 0.5400 - val_loss: 1.9796 - val_accuracy: 0.5000\n",
            "Epoch 45/100\n",
            "63/63 [==============================] - 1s 10ms/step - loss: 1.9615 - accuracy: 0.5310 - val_loss: 1.9427 - val_accuracy: 0.5000\n",
            "Epoch 46/100\n",
            "63/63 [==============================] - 1s 10ms/step - loss: 1.9251 - accuracy: 0.5280 - val_loss: 1.9067 - val_accuracy: 0.5000\n",
            "Epoch 47/100\n",
            "63/63 [==============================] - 1s 9ms/step - loss: 1.8895 - accuracy: 0.5285 - val_loss: 1.8715 - val_accuracy: 0.5000\n",
            "Epoch 48/100\n",
            "63/63 [==============================] - 1s 9ms/step - loss: 1.8547 - accuracy: 0.5190 - val_loss: 1.8372 - val_accuracy: 0.5000\n",
            "Epoch 49/100\n",
            "63/63 [==============================] - 1s 10ms/step - loss: 1.8208 - accuracy: 0.5145 - val_loss: 1.8037 - val_accuracy: 0.5000\n",
            "Epoch 50/100\n",
            "63/63 [==============================] - 1s 10ms/step - loss: 1.7877 - accuracy: 0.5250 - val_loss: 1.7710 - val_accuracy: 0.5000\n",
            "Epoch 51/100\n",
            "63/63 [==============================] - 1s 10ms/step - loss: 1.7554 - accuracy: 0.5325 - val_loss: 1.7392 - val_accuracy: 0.5000\n",
            "Epoch 52/100\n",
            "63/63 [==============================] - 1s 9ms/step - loss: 1.7240 - accuracy: 0.5110 - val_loss: 1.7082 - val_accuracy: 0.5000\n",
            "Epoch 53/100\n",
            "63/63 [==============================] - 1s 9ms/step - loss: 1.6933 - accuracy: 0.5060 - val_loss: 1.6780 - val_accuracy: 0.5000\n",
            "Epoch 54/100\n",
            "63/63 [==============================] - 1s 9ms/step - loss: 1.6635 - accuracy: 0.4995 - val_loss: 1.6485 - val_accuracy: 0.5000\n",
            "Epoch 55/100\n",
            "63/63 [==============================] - 1s 10ms/step - loss: 1.6345 - accuracy: 0.5115 - val_loss: 1.6199 - val_accuracy: 0.5000\n",
            "Epoch 56/100\n",
            "63/63 [==============================] - 1s 10ms/step - loss: 1.6062 - accuracy: 0.5100 - val_loss: 1.5920 - val_accuracy: 0.5000\n",
            "Epoch 57/100\n",
            "63/63 [==============================] - 1s 9ms/step - loss: 1.5786 - accuracy: 0.5115 - val_loss: 1.5648 - val_accuracy: 0.5000\n",
            "Epoch 58/100\n",
            "63/63 [==============================] - 1s 9ms/step - loss: 1.5519 - accuracy: 0.4965 - val_loss: 1.5384 - val_accuracy: 0.5000\n",
            "Epoch 59/100\n",
            "63/63 [==============================] - 1s 9ms/step - loss: 1.5258 - accuracy: 0.4955 - val_loss: 1.5127 - val_accuracy: 0.5000\n",
            "Epoch 60/100\n",
            "63/63 [==============================] - 1s 10ms/step - loss: 1.5005 - accuracy: 0.5045 - val_loss: 1.4878 - val_accuracy: 0.5000\n",
            "Epoch 61/100\n",
            "63/63 [==============================] - 1s 10ms/step - loss: 1.4759 - accuracy: 0.5025 - val_loss: 1.4635 - val_accuracy: 0.5000\n",
            "Epoch 62/100\n",
            "63/63 [==============================] - 1s 9ms/step - loss: 1.4520 - accuracy: 0.5100 - val_loss: 1.4400 - val_accuracy: 0.5000\n",
            "Epoch 63/100\n",
            "63/63 [==============================] - 1s 10ms/step - loss: 1.4288 - accuracy: 0.4935 - val_loss: 1.4171 - val_accuracy: 0.5000\n",
            "Epoch 64/100\n",
            "63/63 [==============================] - 1s 10ms/step - loss: 1.4062 - accuracy: 0.5025 - val_loss: 1.3949 - val_accuracy: 0.5000\n",
            "Epoch 65/100\n",
            "63/63 [==============================] - 1s 10ms/step - loss: 1.3843 - accuracy: 0.4895 - val_loss: 1.3734 - val_accuracy: 0.5000\n",
            "Epoch 66/100\n",
            "63/63 [==============================] - 1s 10ms/step - loss: 1.3631 - accuracy: 0.5060 - val_loss: 1.3525 - val_accuracy: 0.5000\n",
            "Epoch 67/100\n",
            "63/63 [==============================] - 1s 9ms/step - loss: 1.3426 - accuracy: 0.4965 - val_loss: 1.3322 - val_accuracy: 0.5000\n",
            "Epoch 68/100\n",
            "63/63 [==============================] - 1s 10ms/step - loss: 1.3226 - accuracy: 0.5025 - val_loss: 1.3126 - val_accuracy: 0.5000\n",
            "Epoch 69/100\n",
            "63/63 [==============================] - 1s 10ms/step - loss: 1.3033 - accuracy: 0.5085 - val_loss: 1.2936 - val_accuracy: 0.5000\n",
            "Epoch 70/100\n",
            "63/63 [==============================] - 1s 10ms/step - loss: 1.2846 - accuracy: 0.4975 - val_loss: 1.2752 - val_accuracy: 0.5000\n",
            "Epoch 71/100\n",
            "63/63 [==============================] - 1s 10ms/step - loss: 1.2664 - accuracy: 0.4975 - val_loss: 1.2573 - val_accuracy: 0.5000\n",
            "Epoch 72/100\n",
            "63/63 [==============================] - 1s 9ms/step - loss: 1.2489 - accuracy: 0.5010 - val_loss: 1.2401 - val_accuracy: 0.5000\n",
            "Epoch 73/100\n",
            "63/63 [==============================] - 1s 10ms/step - loss: 1.2319 - accuracy: 0.4955 - val_loss: 1.2234 - val_accuracy: 0.5000\n",
            "Epoch 74/100\n",
            "63/63 [==============================] - 1s 10ms/step - loss: 1.2154 - accuracy: 0.5105 - val_loss: 1.2072 - val_accuracy: 0.5000\n",
            "Epoch 75/100\n",
            "63/63 [==============================] - 1s 10ms/step - loss: 1.1996 - accuracy: 0.5010 - val_loss: 1.1916 - val_accuracy: 0.5000\n",
            "Epoch 76/100\n",
            "63/63 [==============================] - 1s 9ms/step - loss: 1.1842 - accuracy: 0.5175 - val_loss: 1.1766 - val_accuracy: 0.5000\n",
            "Epoch 77/100\n",
            "63/63 [==============================] - 1s 9ms/step - loss: 1.1694 - accuracy: 0.5055 - val_loss: 1.1620 - val_accuracy: 0.5000\n",
            "Epoch 78/100\n",
            "63/63 [==============================] - 1s 9ms/step - loss: 1.1551 - accuracy: 0.5045 - val_loss: 1.1480 - val_accuracy: 0.5000\n",
            "Epoch 79/100\n",
            "63/63 [==============================] - 1s 9ms/step - loss: 1.1413 - accuracy: 0.5065 - val_loss: 1.1344 - val_accuracy: 0.5000\n",
            "Epoch 80/100\n",
            "63/63 [==============================] - 1s 9ms/step - loss: 1.1280 - accuracy: 0.5020 - val_loss: 1.1213 - val_accuracy: 0.5000\n",
            "Epoch 81/100\n",
            "63/63 [==============================] - 1s 10ms/step - loss: 1.1151 - accuracy: 0.5000 - val_loss: 1.1087 - val_accuracy: 0.5000\n",
            "Epoch 82/100\n",
            "63/63 [==============================] - 1s 9ms/step - loss: 1.1027 - accuracy: 0.5000 - val_loss: 1.0965 - val_accuracy: 0.5000\n",
            "Epoch 83/100\n",
            "63/63 [==============================] - 1s 12ms/step - loss: 1.0908 - accuracy: 0.4925 - val_loss: 1.0848 - val_accuracy: 0.5000\n",
            "Epoch 84/100\n",
            "63/63 [==============================] - 1s 14ms/step - loss: 1.0793 - accuracy: 0.5045 - val_loss: 1.0735 - val_accuracy: 0.5000\n",
            "Epoch 85/100\n",
            "63/63 [==============================] - 1s 13ms/step - loss: 1.0682 - accuracy: 0.4995 - val_loss: 1.0627 - val_accuracy: 0.5000\n",
            "Epoch 86/100\n",
            "63/63 [==============================] - 1s 14ms/step - loss: 1.0575 - accuracy: 0.5145 - val_loss: 1.0522 - val_accuracy: 0.5000\n",
            "Epoch 87/100\n",
            "63/63 [==============================] - 1s 12ms/step - loss: 1.0473 - accuracy: 0.5005 - val_loss: 1.0422 - val_accuracy: 0.5000\n",
            "Epoch 88/100\n",
            "63/63 [==============================] - 1s 19ms/step - loss: 1.0375 - accuracy: 0.4875 - val_loss: 1.0325 - val_accuracy: 0.5000\n",
            "Epoch 89/100\n",
            "63/63 [==============================] - 1s 13ms/step - loss: 1.0280 - accuracy: 0.4730 - val_loss: 1.0232 - val_accuracy: 0.5000\n",
            "Epoch 90/100\n",
            "63/63 [==============================] - 1s 11ms/step - loss: 1.0189 - accuracy: 0.4930 - val_loss: 1.0143 - val_accuracy: 0.5000\n",
            "Epoch 91/100\n",
            "63/63 [==============================] - 1s 12ms/step - loss: 1.0101 - accuracy: 0.5000 - val_loss: 1.0057 - val_accuracy: 0.5000\n",
            "Epoch 92/100\n",
            "63/63 [==============================] - 1s 13ms/step - loss: 1.0017 - accuracy: 0.4935 - val_loss: 0.9975 - val_accuracy: 0.5000\n",
            "Epoch 93/100\n",
            "63/63 [==============================] - 1s 13ms/step - loss: 0.9936 - accuracy: 0.5065 - val_loss: 0.9896 - val_accuracy: 0.5000\n",
            "Epoch 94/100\n",
            "63/63 [==============================] - 1s 13ms/step - loss: 0.9859 - accuracy: 0.4930 - val_loss: 0.9820 - val_accuracy: 0.5000\n",
            "Epoch 95/100\n",
            "63/63 [==============================] - 1s 12ms/step - loss: 0.9785 - accuracy: 0.4870 - val_loss: 0.9747 - val_accuracy: 0.5000\n",
            "Epoch 96/100\n",
            "63/63 [==============================] - 1s 14ms/step - loss: 0.9713 - accuracy: 0.5065 - val_loss: 0.9678 - val_accuracy: 0.5000\n",
            "Epoch 97/100\n",
            "63/63 [==============================] - 1s 13ms/step - loss: 0.9645 - accuracy: 0.4950 - val_loss: 0.9611 - val_accuracy: 0.5000\n",
            "Epoch 98/100\n",
            "63/63 [==============================] - 1s 14ms/step - loss: 0.9579 - accuracy: 0.5060 - val_loss: 0.9546 - val_accuracy: 0.5000\n",
            "Epoch 99/100\n",
            "63/63 [==============================] - 1s 12ms/step - loss: 0.9516 - accuracy: 0.4915 - val_loss: 0.9485 - val_accuracy: 0.5000\n",
            "Epoch 100/100\n",
            "63/63 [==============================] - 1s 14ms/step - loss: 0.9456 - accuracy: 0.4780 - val_loss: 0.9425 - val_accuracy: 0.5000\n"
          ]
        }
      ]
    },
    {
      "cell_type": "markdown",
      "metadata": {
        "id": "1NbTRTFluCNt"
      },
      "source": [
        "**Can you interpret the numbers displayed? Which do you care about most?**\n",
        "\n",
        "*Hint*: \"validation set\" is similar to \"test set\"."
      ]
    },
    {
      "cell_type": "markdown",
      "metadata": {
        "id": "xlYo20_lttEA"
      },
      "source": [
        "###Scoring\n",
        "\n",
        "Now, let's evaluate our models! To get the scores, you can use:\n",
        "```\n",
        "score = model.evaluate(test_data, test_labels, verbose=0)\n",
        "```\n",
        "\n",
        "Then `score[0]` will be test loss and `score[1]` will be test accuracy.\n",
        "\n"
      ]
    },
    {
      "cell_type": "code",
      "metadata": {
        "id": "tywOuLnPucIC",
        "colab": {
          "base_uri": "https://localhost:8080/"
        },
        "outputId": "d74cb160-986d-42cb-83b6-493879afb815"
      },
      "source": [
        "score1 = dense.evaluate(test_data, test_labels, verbose=0)\n",
        "print(score1)\n",
        "score2= cnn.evaluate(test_data, test_labels, verbose=0)\n",
        "print(score2)\n"
      ],
      "execution_count": null,
      "outputs": [
        {
          "output_type": "stream",
          "name": "stdout",
          "text": [
            "[0.5801100730895996, 0.7174999713897705]\n",
            "[0.9425272941589355, 0.5]\n"
          ]
        }
      ]
    },
    {
      "cell_type": "markdown",
      "metadata": {
        "id": "jakb5j_Hux7W"
      },
      "source": [
        "**Which model did better? Any surprises?**"
      ]
    },
    {
      "cell_type": "markdown",
      "metadata": {
        "id": "ozaEE78ktkyw"
      },
      "source": [
        "### Plotting\n",
        "\n",
        "A great way to understand our model better is to plot the training and test accuracy over time with `plot_acc(model_history)`.\n",
        "\n",
        "**What do you observe of the training and test accuracy over the training epochs?**\n",
        "\n",
        "Discuss this with your group and your instructor! What problems are we experiencing? How can we fix them?"
      ]
    },
    {
      "cell_type": "code",
      "metadata": {
        "id": "_nBfrnjIXzdp",
        "colab": {
          "base_uri": "https://localhost:8080/",
          "height": 549
        },
        "outputId": "158b5e5b-c7d4-424a-b4a5-7cf420a7d9e5"
      },
      "source": [
        "plot_acc(model_history1)\n",
        "plot_acc(model_history2)"
      ],
      "execution_count": null,
      "outputs": [
        {
          "output_type": "display_data",
          "data": {
            "text/plain": [
              "<Figure size 432x288 with 1 Axes>"
            ],
            "image/png": "[encoded data removed]"
          },
          "metadata": {
            "needs_background": "light"
          }
        },
        {
          "output_type": "display_data",
          "data": {
            "text/plain": [
              "<Figure size 432x288 with 1 Axes>"
            ],
            "image/png": "[encoded data removed]"
          },
          "metadata": {
            "needs_background": "light"
          }
        }
      ]
    },
    {
      "cell_type": "markdown",
      "metadata": {
        "id": "i3wqKrSyVBqr"
      },
      "source": [
        "## Instructor-Led Discussion: Overfitting\n",
        "\n",
        "**Questions:**\n",
        "Was the best epoch necessarily the last epoch?\n",
        "\n",
        "You should check what the best epoch was at every step of the way!\n",
        "\n",
        "**When does your model overfit? How could we fix it?**\n",
        "\n",
        "**Experiment with different network structures** before you move on!"
      ]
    },
    {
      "cell_type": "markdown",
      "metadata": {
        "id": "G5scKiYAYE8g"
      },
      "source": [
        "\n",
        "# Milestone 3. Expert models: Transfer learning"
      ]
    },
    {
      "cell_type": "markdown",
      "metadata": {
        "id": "FybhlxdVYFbv"
      },
      "source": [
        "\n",
        "## Instructor-Led Discussion: Transfer Learning\n"
      ]
    },
    {
      "cell_type": "markdown",
      "metadata": {
        "id": "3Bx5nyzE36EQ"
      },
      "source": [
        "So far, we've used models that were built from 'scratch'. Unfortunately, our training data is small relative to the amount of data available in the real world, so just training on our dataset is going to be inherently limited.\n",
        "\n",
        "Luckily, there are **expert models**, or state-of-the-art models that have been trained by the world's top researchers! While these expert models haven't trained on our training data, they have trained extensively on larger datasets. We can input our data and reasonably expect that they will pick up our task fairly quickly.\n",
        "\n",
        "In deep learning, the idea of using a model trained on another task as a starting point for your model is known as **transfer learning**."
      ]
    },
    {
      "cell_type": "markdown",
      "metadata": {
        "id": "DChmzlt3ARPy"
      },
      "source": [
        "### VGG 16"
      ]
    },
    {
      "cell_type": "markdown",
      "metadata": {
        "id": "lFtHOYI2AdSs"
      },
      "source": [
        "For our transfer learning, we're going to use 'experts' built upon the famous 'ImageNet' classification problem.\n",
        "\n",
        "In ImageNet, participants were challenged to build machine learning models that could distinguish 14 million images' categories, where there were > 20,000 categories available.\n",
        "\n",
        "Below, we see examples of 4 different categories.\n",
        "\n",
        "![](http://cs231n.github.io/assets/trainset.jpg)\n",
        "\n"
      ]
    },
    {
      "cell_type": "markdown",
      "metadata": {
        "id": "J-E_AiG-CFj0"
      },
      "source": [
        "One of the experts we can use is VGG16. VGG16 is a specific convolutional neural network that was allowed to study the 14 million images 74 times. *(Read more about VGG16 [here!](https://neurohive.io/en/popular-networks/vgg16/))*\n",
        "\n",
        "After training, VGG16 was able to guess something close to the real label (top-5 accuracy) better than a human can."
      ]
    },
    {
      "cell_type": "markdown",
      "metadata": {
        "id": "IvkajtdHAbzL"
      },
      "source": [
        "![](https://cdn-images-1.medium.com/max/1600/0*V1muWIDnPVwZUuEv.png)"
      ]
    },
    {
      "cell_type": "markdown",
      "metadata": {
        "id": "Vwj8o5X3D325"
      },
      "source": [
        "We're going to take an expert model like VGG16 and let it train on OUR x-rays. Hopefully, its experience with those 14 million images will help it differentiate between healthy and pneumonia-affected x-rays."
      ]
    },
    {
      "cell_type": "markdown",
      "metadata": {
        "id": "g-357WWC7qJJ"
      },
      "source": [
        "### Exercise (Coding) | Within a student group"
      ]
    },
    {
      "cell_type": "markdown",
      "metadata": {
        "id": "uz_mVsECHvro"
      },
      "source": [
        "Let's tap an expert model to help us out with our pneumonia prediction!\n",
        "\n",
        "We provide a wrapper that lets you 'call' up and employ expert models. You can call it like...\n",
        "\n",
        "```\n",
        "transfer = TransferClassifier(name = 'VGG16')\n",
        "```\n",
        "\n",
        "The experts we have on hand are:\n",
        "* `VGG16`\n",
        "* `VGG19`\n",
        "* `ResNet50`\n",
        "* `DenseNet121`\n",
        "\n",
        "There are default parameters to model.fit you can call:\n",
        "\n",
        "`model.fit(train_data, train_labels, epochs = N, validation_data = (test_data, test_labels), shuffle = True, callbacks = [monitor])`\n",
        "\n",
        "The `shuffle` parameter is important for shuffling the training data before each epoch. The `[monitor]` callback is used to get a view on internal states and statistics of the model during training. Do not change these parameters!\n",
        "\n",
        "**Please experiment with using these experts! Remember to fit and score your model, and to take a look at the training history.**\n",
        "\n",
        "How many epochs do you need now?\n"
      ]
    },
    {
      "cell_type": "code",
      "metadata": {
        "id": "0VB79BCx7tvg"
      },
      "source": [
        "### YOUR CODE HERE\n",
        "\n",
        "### END CODE"
      ],
      "execution_count": null,
      "outputs": []
    },
    {
      "cell_type": "markdown",
      "metadata": {
        "id": "h9Qp129rNV3U"
      },
      "source": [
        "# Milestone 4\n",
        "## Instructor-led Discussion: Model Evaluation"
      ]
    },
    {
      "cell_type": "markdown",
      "metadata": {
        "id": "wwERVb37ylko"
      },
      "source": [
        "## Activity 4a. How did we do on pneumonia prediction?"
      ]
    },
    {
      "cell_type": "markdown",
      "metadata": {
        "id": "sXyQLXigDbtg"
      },
      "source": [
        "\n",
        "\n",
        "### Exercise (Coding)"
      ]
    },
    {
      "cell_type": "markdown",
      "metadata": {
        "id": "hBbSwkgVj7gS"
      },
      "source": [
        "Set your best model to the one you have trained (e.g., the transfer learning model)."
      ]
    },
    {
      "cell_type": "code",
      "metadata": {
        "id": "TmjOJCGDjsMk"
      },
      "source": [
        "best_model = model_history1  ## Change this if another model did better!"
      ],
      "execution_count": null,
      "outputs": []
    },
    {
      "cell_type": "code",
      "source": [
        "# split test/train data\n",
        "train_data, train_labels = get_train_data()\n",
        "test_data, test_labels = get_test_data()\n",
        "\n",
        "# create the model using CNNClassifier\n",
        "dense = DenseClassifier(hidden_layer_sizes = (70,45))\n",
        "\n",
        "#.fit()\n",
        "model_history1 = dense.fit(train_data, train_labels, epochs = 19 , validation_data = (test_data, test_labels), shuffle = True, callbacks = [monitor])\n",
        "\n",
        "#.predict()\n",
        "dense.predict(test_data)\n",
        "\n",
        "#plot_acc\n",
        "plot_acc(model_history1)\n",
        "\n",
        "#accuracy\n",
        "score1 = dense.evaluate(test_data, test_labels, verbose=0)\n",
        "print(score1)\n"
      ],
      "metadata": {
        "colab": {
          "base_uri": "https://localhost:8080/",
          "height": 1000
        },
        "id": "wabIolEIzuwz",
        "outputId": "b6bdef62-f0bd-46a2-94e9-d82e373ca9eb"
      },
      "execution_count": null,
      "outputs": [
        {
          "output_type": "stream",
          "name": "stdout",
          "text": [
            "Epoch 1/19\n",
            "63/63 [==============================] - 1s 7ms/step - loss: 0.7483 - accuracy: 0.5140 - val_loss: 0.6825 - val_accuracy: 0.6050\n",
            "Epoch 2/19\n",
            "63/63 [==============================] - 0s 5ms/step - loss: 0.7006 - accuracy: 0.5190 - val_loss: 0.6739 - val_accuracy: 0.7275\n",
            "Epoch 3/19\n",
            "63/63 [==============================] - 0s 5ms/step - loss: 0.6938 - accuracy: 0.5460 - val_loss: 0.6800 - val_accuracy: 0.6525\n",
            "Epoch 4/19\n",
            "63/63 [==============================] - 0s 5ms/step - loss: 0.6816 - accuracy: 0.5625 - val_loss: 0.6649 - val_accuracy: 0.7725\n",
            "Epoch 5/19\n",
            "63/63 [==============================] - 0s 5ms/step - loss: 0.6731 - accuracy: 0.5725 - val_loss: 0.6586 - val_accuracy: 0.7675\n",
            "Epoch 6/19\n",
            "63/63 [==============================] - 0s 4ms/step - loss: 0.6597 - accuracy: 0.5935 - val_loss: 0.6423 - val_accuracy: 0.7850\n",
            "Epoch 7/19\n",
            "63/63 [==============================] - 0s 5ms/step - loss: 0.6511 - accuracy: 0.6105 - val_loss: 0.6224 - val_accuracy: 0.7775\n",
            "Epoch 8/19\n",
            "63/63 [==============================] - 0s 5ms/step - loss: 0.6270 - accuracy: 0.6445 - val_loss: 0.5870 - val_accuracy: 0.7825\n",
            "Epoch 9/19\n",
            "63/63 [==============================] - 0s 4ms/step - loss: 0.6209 - accuracy: 0.6515 - val_loss: 0.5903 - val_accuracy: 0.8075\n",
            "Epoch 10/19\n",
            "63/63 [==============================] - 0s 5ms/step - loss: 0.6080 - accuracy: 0.6835 - val_loss: 0.5606 - val_accuracy: 0.8175\n",
            "Epoch 11/19\n",
            "63/63 [==============================] - 0s 5ms/step - loss: 0.6032 - accuracy: 0.6730 - val_loss: 0.5426 - val_accuracy: 0.8175\n",
            "Epoch 12/19\n",
            "63/63 [==============================] - 0s 5ms/step - loss: 0.5668 - accuracy: 0.7170 - val_loss: 0.5170 - val_accuracy: 0.8225\n",
            "Epoch 13/19\n",
            "63/63 [==============================] - 0s 5ms/step - loss: 0.5432 - accuracy: 0.7275 - val_loss: 0.5013 - val_accuracy: 0.8300\n",
            "Epoch 14/19\n",
            "63/63 [==============================] - 0s 5ms/step - loss: 0.5432 - accuracy: 0.7295 - val_loss: 0.4819 - val_accuracy: 0.8300\n",
            "Epoch 15/19\n",
            "63/63 [==============================] - 0s 5ms/step - loss: 0.5122 - accuracy: 0.7585 - val_loss: 0.4790 - val_accuracy: 0.7850\n",
            "Epoch 16/19\n",
            "63/63 [==============================] - 0s 4ms/step - loss: 0.5101 - accuracy: 0.7505 - val_loss: 0.4589 - val_accuracy: 0.8275\n",
            "Epoch 17/19\n",
            "63/63 [==============================] - 0s 5ms/step - loss: 0.4826 - accuracy: 0.7775 - val_loss: 0.4491 - val_accuracy: 0.8200\n",
            "Epoch 18/19\n",
            "63/63 [==============================] - 0s 4ms/step - loss: 0.4757 - accuracy: 0.7805 - val_loss: 0.4574 - val_accuracy: 0.7900\n",
            "Epoch 19/19\n",
            "63/63 [==============================] - 0s 5ms/step - loss: 0.4589 - accuracy: 0.7885 - val_loss: 0.4359 - val_accuracy: 0.8375\n"
          ]
        },
        {
          "output_type": "display_data",
          "data": {
            "text/plain": [
              "<Figure size 432x288 with 1 Axes>"
            ],
            "image/png": "[encoded data removed]"
          },
          "metadata": {
            "needs_background": "light"
          }
        },
        {
          "output_type": "stream",
          "name": "stdout",
          "text": [
            "[0.4359148442745209, 0.8374999761581421]\n"
          ]
        }
      ]
    },
    {
      "cell_type": "markdown",
      "metadata": {
        "id": "UBhDGS02VGHa"
      },
      "source": [
        "As we learned last week, total accuracy does not reflect all that we want to know about a model's performance. It's just one metric out of many possible metrics for evaluating models.\n",
        "\n",
        "In the case of pneumonia prediction, we may be more interested in other quantities, such as 'how accurate were we on the pneumonia category?' or 'how accurate were we on the normal category?' or 'how much of pneumonia were confused for normal?' or vice versa.\n",
        "\n"
      ]
    },
    {
      "cell_type": "markdown",
      "metadata": {
        "id": "T_GjNUEBMSke"
      },
      "source": [
        "Our metrics for classification can be described in terms of a 'confusion matrix', shown below.\n",
        "\n",
        "![Confusion Matrix](https://cdn-images-1.medium.com/max/1600/1*Z54JgbS4DUwWSknhDCvNTQ.png)\n",
        "\n",
        "In a confusion matrix, we think in terms of 'actual' and 'predicted values'. If we take Pneumonia = 1/Positive and Normal = 0/Negative, then **what do TP, FP, TN, and FN mean?**\n",
        "\n",
        "\n"
      ]
    },
    {
      "cell_type": "markdown",
      "metadata": {
        "id": "BL0ns-b9GBym"
      },
      "source": [
        "The `sklearn` package makes calculating confusion matrices very quick! Its `metrics` submodule actually comes with a `confusion_matrix` tool. Let's start by grabbing that."
      ]
    },
    {
      "cell_type": "code",
      "metadata": {
        "id": "f2E5299cNEcp"
      },
      "source": [
        "from sklearn.metrics import accuracy_score, confusion_matrix"
      ],
      "execution_count": null,
      "outputs": []
    },
    {
      "cell_type": "code",
      "source": [],
      "metadata": {
        "id": "1SpzKndi6hSk"
      },
      "execution_count": null,
      "outputs": []
    },
    {
      "cell_type": "markdown",
      "metadata": {
        "id": "bvFawPv1NIyy"
      },
      "source": [
        "To use `confusion_matrix`, we need:\n",
        "* `labels`: the labels of the data (1 - PNEUMONIA or 0 - NORMAL)\n",
        "* `predictions`: what our model thinks the labels are\n",
        "\n",
        "To get `predictions`, you'll want to use ```best_model.predict_classes(test_data)```.\n",
        "\n",
        "Please get the `predictions`, and use `accuracy_score` to print the overall test accuracy:"
      ]
    },
    {
      "cell_type": "code",
      "metadata": {
        "id": "Ke5_OhU1wlpU",
        "colab": {
          "base_uri": "https://localhost:8080/"
        },
        "outputId": "d2e33764-5786-4fdb-c9ec-698ac06b21e1"
      },
      "source": [
        "predictions = dense.predict(test_data)\n",
        "\n",
        "for i in range (len(predictions)):\n",
        "  if predictions[i]>=0.5:\n",
        "    predictions[i]=1\n",
        "  else:\n",
        "    predictions[i]=0\n",
        "\n",
        "\n",
        "accuracy_score(test_labels, predictions)"
      ],
      "execution_count": null,
      "outputs": [
        {
          "output_type": "execute_result",
          "data": {
            "text/plain": [
              "0.8375"
            ]
          },
          "metadata": {},
          "execution_count": 61
        }
      ]
    },
    {
      "cell_type": "code",
      "source": [
        "predictions"
      ],
      "metadata": {
        "colab": {
          "base_uri": "https://localhost:8080/"
        },
        "id": "Hk0ItlJU6qYT",
        "outputId": "62e941ad-d758-4246-c1f9-e766ac94ac61"
      },
      "execution_count": null,
      "outputs": [
        {
          "output_type": "execute_result",
          "data": {
            "text/plain": [
              "array([[1.],\n",
              "       [1.],\n",
              "       [0.],\n",
              "       [0.],\n",
              "       [1.],\n",
              "       [1.],\n",
              "       [0.],\n",
              "       [1.],\n",
              "       [0.],\n",
              "       [0.],\n",
              "       [0.],\n",
              "       [0.],\n",
              "       [0.],\n",
              "       [0.],\n",
              "       [0.],\n",
              "       [0.],\n",
              "       [0.],\n",
              "       [1.],\n",
              "       [1.],\n",
              "       [0.],\n",
              "       [1.],\n",
              "       [1.],\n",
              "       [0.],\n",
              "       [0.],\n",
              "       [0.],\n",
              "       [0.],\n",
              "       [0.],\n",
              "       [1.],\n",
              "       [1.],\n",
              "       [0.],\n",
              "       [1.],\n",
              "       [0.],\n",
              "       [1.],\n",
              "       [1.],\n",
              "       [0.],\n",
              "       [1.],\n",
              "       [1.],\n",
              "       [0.],\n",
              "       [0.],\n",
              "       [1.],\n",
              "       [0.],\n",
              "       [0.],\n",
              "       [0.],\n",
              "       [1.],\n",
              "       [0.],\n",
              "       [0.],\n",
              "       [0.],\n",
              "       [1.],\n",
              "       [1.],\n",
              "       [0.],\n",
              "       [1.],\n",
              "       [1.],\n",
              "       [1.],\n",
              "       [0.],\n",
              "       [0.],\n",
              "       [0.],\n",
              "       [1.],\n",
              "       [1.],\n",
              "       [0.],\n",
              "       [0.],\n",
              "       [1.],\n",
              "       [1.],\n",
              "       [0.],\n",
              "       [0.],\n",
              "       [0.],\n",
              "       [0.],\n",
              "       [0.],\n",
              "       [1.],\n",
              "       [0.],\n",
              "       [1.],\n",
              "       [0.],\n",
              "       [1.],\n",
              "       [1.],\n",
              "       [0.],\n",
              "       [1.],\n",
              "       [0.],\n",
              "       [0.],\n",
              "       [0.],\n",
              "       [0.],\n",
              "       [0.],\n",
              "       [0.],\n",
              "       [0.],\n",
              "       [0.],\n",
              "       [1.],\n",
              "       [1.],\n",
              "       [1.],\n",
              "       [0.],\n",
              "       [0.],\n",
              "       [1.],\n",
              "       [1.],\n",
              "       [1.],\n",
              "       [0.],\n",
              "       [0.],\n",
              "       [1.],\n",
              "       [1.],\n",
              "       [0.],\n",
              "       [0.],\n",
              "       [0.],\n",
              "       [0.],\n",
              "       [0.],\n",
              "       [1.],\n",
              "       [1.],\n",
              "       [1.],\n",
              "       [0.],\n",
              "       [1.],\n",
              "       [1.],\n",
              "       [0.],\n",
              "       [1.],\n",
              "       [0.],\n",
              "       [0.],\n",
              "       [1.],\n",
              "       [0.],\n",
              "       [0.],\n",
              "       [1.],\n",
              "       [0.],\n",
              "       [1.],\n",
              "       [0.],\n",
              "       [1.],\n",
              "       [0.],\n",
              "       [1.],\n",
              "       [0.],\n",
              "       [1.],\n",
              "       [0.],\n",
              "       [1.],\n",
              "       [1.],\n",
              "       [1.],\n",
              "       [0.],\n",
              "       [0.],\n",
              "       [1.],\n",
              "       [0.],\n",
              "       [1.],\n",
              "       [0.],\n",
              "       [0.],\n",
              "       [1.],\n",
              "       [0.],\n",
              "       [1.],\n",
              "       [0.],\n",
              "       [0.],\n",
              "       [1.],\n",
              "       [1.],\n",
              "       [1.],\n",
              "       [1.],\n",
              "       [0.],\n",
              "       [1.],\n",
              "       [1.],\n",
              "       [1.],\n",
              "       [1.],\n",
              "       [1.],\n",
              "       [0.],\n",
              "       [0.],\n",
              "       [1.],\n",
              "       [1.],\n",
              "       [1.],\n",
              "       [0.],\n",
              "       [0.],\n",
              "       [0.],\n",
              "       [0.],\n",
              "       [1.],\n",
              "       [1.],\n",
              "       [1.],\n",
              "       [0.],\n",
              "       [1.],\n",
              "       [1.],\n",
              "       [1.],\n",
              "       [0.],\n",
              "       [0.],\n",
              "       [1.],\n",
              "       [1.],\n",
              "       [0.],\n",
              "       [1.],\n",
              "       [0.],\n",
              "       [1.],\n",
              "       [0.],\n",
              "       [1.],\n",
              "       [1.],\n",
              "       [0.],\n",
              "       [0.],\n",
              "       [1.],\n",
              "       [1.],\n",
              "       [0.],\n",
              "       [1.],\n",
              "       [1.],\n",
              "       [1.],\n",
              "       [1.],\n",
              "       [1.],\n",
              "       [1.],\n",
              "       [0.],\n",
              "       [0.],\n",
              "       [1.],\n",
              "       [1.],\n",
              "       [0.],\n",
              "       [1.],\n",
              "       [0.],\n",
              "       [0.],\n",
              "       [1.],\n",
              "       [1.],\n",
              "       [1.],\n",
              "       [1.],\n",
              "       [1.],\n",
              "       [0.],\n",
              "       [1.],\n",
              "       [0.],\n",
              "       [0.],\n",
              "       [0.],\n",
              "       [1.],\n",
              "       [0.],\n",
              "       [1.],\n",
              "       [0.],\n",
              "       [1.],\n",
              "       [0.],\n",
              "       [0.],\n",
              "       [0.],\n",
              "       [1.],\n",
              "       [0.],\n",
              "       [0.],\n",
              "       [0.],\n",
              "       [1.],\n",
              "       [1.],\n",
              "       [0.],\n",
              "       [0.],\n",
              "       [1.],\n",
              "       [0.],\n",
              "       [0.],\n",
              "       [0.],\n",
              "       [0.],\n",
              "       [1.],\n",
              "       [0.],\n",
              "       [0.],\n",
              "       [0.],\n",
              "       [0.],\n",
              "       [1.],\n",
              "       [1.],\n",
              "       [0.],\n",
              "       [1.],\n",
              "       [0.],\n",
              "       [1.],\n",
              "       [0.],\n",
              "       [0.],\n",
              "       [0.],\n",
              "       [0.],\n",
              "       [1.],\n",
              "       [1.],\n",
              "       [1.],\n",
              "       [1.],\n",
              "       [1.],\n",
              "       [1.],\n",
              "       [1.],\n",
              "       [1.],\n",
              "       [0.],\n",
              "       [1.],\n",
              "       [1.],\n",
              "       [1.],\n",
              "       [0.],\n",
              "       [0.],\n",
              "       [0.],\n",
              "       [1.],\n",
              "       [1.],\n",
              "       [0.],\n",
              "       [0.],\n",
              "       [1.],\n",
              "       [0.],\n",
              "       [0.],\n",
              "       [1.],\n",
              "       [0.],\n",
              "       [1.],\n",
              "       [0.],\n",
              "       [0.],\n",
              "       [0.],\n",
              "       [0.],\n",
              "       [0.],\n",
              "       [1.],\n",
              "       [1.],\n",
              "       [1.],\n",
              "       [1.],\n",
              "       [0.],\n",
              "       [0.],\n",
              "       [1.],\n",
              "       [1.],\n",
              "       [1.],\n",
              "       [1.],\n",
              "       [0.],\n",
              "       [0.],\n",
              "       [1.],\n",
              "       [0.],\n",
              "       [1.],\n",
              "       [0.],\n",
              "       [0.],\n",
              "       [1.],\n",
              "       [1.],\n",
              "       [0.],\n",
              "       [1.],\n",
              "       [1.],\n",
              "       [1.],\n",
              "       [1.],\n",
              "       [0.],\n",
              "       [1.],\n",
              "       [0.],\n",
              "       [0.],\n",
              "       [1.],\n",
              "       [1.],\n",
              "       [1.],\n",
              "       [1.],\n",
              "       [0.],\n",
              "       [1.],\n",
              "       [0.],\n",
              "       [0.],\n",
              "       [1.],\n",
              "       [1.],\n",
              "       [1.],\n",
              "       [1.],\n",
              "       [1.],\n",
              "       [1.],\n",
              "       [0.],\n",
              "       [1.],\n",
              "       [0.],\n",
              "       [1.],\n",
              "       [1.],\n",
              "       [0.],\n",
              "       [1.],\n",
              "       [1.],\n",
              "       [1.],\n",
              "       [0.],\n",
              "       [0.],\n",
              "       [0.],\n",
              "       [1.],\n",
              "       [0.],\n",
              "       [0.],\n",
              "       [0.],\n",
              "       [1.],\n",
              "       [0.],\n",
              "       [1.],\n",
              "       [1.],\n",
              "       [1.],\n",
              "       [1.],\n",
              "       [1.],\n",
              "       [0.],\n",
              "       [0.],\n",
              "       [0.],\n",
              "       [1.],\n",
              "       [1.],\n",
              "       [1.],\n",
              "       [0.],\n",
              "       [1.],\n",
              "       [1.],\n",
              "       [1.],\n",
              "       [1.],\n",
              "       [1.],\n",
              "       [1.],\n",
              "       [1.],\n",
              "       [1.],\n",
              "       [0.],\n",
              "       [1.],\n",
              "       [0.],\n",
              "       [1.],\n",
              "       [1.],\n",
              "       [1.],\n",
              "       [1.],\n",
              "       [0.],\n",
              "       [1.],\n",
              "       [0.],\n",
              "       [1.],\n",
              "       [1.],\n",
              "       [1.],\n",
              "       [0.],\n",
              "       [1.],\n",
              "       [1.],\n",
              "       [1.],\n",
              "       [0.],\n",
              "       [1.],\n",
              "       [1.],\n",
              "       [1.],\n",
              "       [1.],\n",
              "       [1.],\n",
              "       [0.],\n",
              "       [1.],\n",
              "       [0.],\n",
              "       [1.],\n",
              "       [0.],\n",
              "       [1.],\n",
              "       [1.],\n",
              "       [1.],\n",
              "       [1.],\n",
              "       [0.],\n",
              "       [1.],\n",
              "       [1.],\n",
              "       [0.],\n",
              "       [1.],\n",
              "       [0.],\n",
              "       [0.],\n",
              "       [0.],\n",
              "       [1.],\n",
              "       [1.],\n",
              "       [0.],\n",
              "       [0.],\n",
              "       [1.],\n",
              "       [1.],\n",
              "       [0.],\n",
              "       [0.],\n",
              "       [1.],\n",
              "       [0.]], dtype=float32)"
            ]
          },
          "metadata": {},
          "execution_count": 51
        }
      ]
    },
    {
      "cell_type": "markdown",
      "metadata": {
        "id": "XcFGwTMDkCAp"
      },
      "source": [
        "Now let's get our confusion matrix, and split it out into true positive, true negative, false positive, and false negative!"
      ]
    },
    {
      "cell_type": "code",
      "metadata": {
        "id": "O7omQvlbkSTn",
        "colab": {
          "base_uri": "https://localhost:8080/"
        },
        "outputId": "5b4943f1-42b4-4212-a2b6-2caba72ac112"
      },
      "source": [
        "confusion = confusion_matrix(test_labels, predictions)\n",
        "print(confusion)"
      ],
      "execution_count": null,
      "outputs": [
        {
          "output_type": "stream",
          "name": "stdout",
          "text": [
            "[[159  41]\n",
            " [ 30 170]]\n"
          ]
        }
      ]
    },
    {
      "cell_type": "markdown",
      "metadata": {
        "id": "8zQjmPA4w8wJ"
      },
      "source": [
        "**How do you interpret each number?**"
      ]
    },
    {
      "cell_type": "code",
      "metadata": {
        "id": "K17HWY9Iw3gA",
        "colab": {
          "base_uri": "https://localhost:8080/"
        },
        "outputId": "cfb2e0d6-85b9-4085-8d13-d0220551fcd0"
      },
      "source": [
        "tp  = confusion[1][1]\n",
        "tn  = confusion[0][0]\n",
        "fp = confusion[0][1]\n",
        "fn = confusion[1][0]\n",
        "\n",
        "print('True positive: %d'%tp)\n",
        "print('True negative: %d'%tn)\n",
        "print('False positive: %d'%fp)\n",
        "print('False negative: %d'%fn)"
      ],
      "execution_count": null,
      "outputs": [
        {
          "output_type": "stream",
          "name": "stdout",
          "text": [
            "True positive: 170\n",
            "True negative: 159\n",
            "False positive: 41\n",
            "False negative: 30\n"
          ]
        }
      ]
    },
    {
      "cell_type": "markdown",
      "metadata": {
        "id": "eKlghw6_krXL"
      },
      "source": [
        "We can visualize the confusion matrix with seaborn to make it easier for our eyes..."
      ]
    },
    {
      "cell_type": "code",
      "metadata": {
        "id": "Q0Cp60eokseD"
      },
      "source": [
        "# grab our plotting package\n",
        "import seaborn as sns\n",
        "import matplotlib.pyplot as plt"
      ],
      "execution_count": null,
      "outputs": []
    },
    {
      "cell_type": "code",
      "metadata": {
        "id": "l_Jwv2-OktLb",
        "colab": {
          "base_uri": "https://localhost:8080/",
          "height": 279
        },
        "outputId": "2e7bfdff-b75e-423f-c8a8-e69708e6c553"
      },
      "source": [
        "sns.heatmap(confusion, annot = True, fmt = 'd', cbar_kws={'label':'count'});\n",
        "plt.ylabel('Actual');\n",
        "plt.xlabel('Predicted');"
      ],
      "execution_count": null,
      "outputs": [
        {
          "output_type": "display_data",
          "data": {
            "text/plain": [
              "<Figure size 432x288 with 2 Axes>"
            ],
            "image/png": "[encoded data removed]"
          },
          "metadata": {
            "needs_background": "light"
          }
        }
      ]
    },
    {
      "cell_type": "markdown",
      "metadata": {
        "id": "lFj6JvhMxAwX"
      },
      "source": [
        "**What do you notice about this confusion matrix?**"
      ]
    },
    {
      "cell_type": "markdown",
      "metadata": {
        "id": "mdnF7l8_khHU"
      },
      "source": [
        "## Instructor-Led Discussion: Comparing False Positives and False Negatives"
      ]
    },
    {
      "cell_type": "markdown",
      "metadata": {
        "id": "r8Tt6kTRkTvm"
      },
      "source": [
        "**Now that we have our confusion matrix, let's take a step back and discuss**\n",
        "\n",
        "What did our model confuse more?\n",
        "* PNEUMONIA for NORMAL or...\n",
        "* NORMAL for PNEUMONIA\n",
        "\n",
        "Why do you think it might have confused one for the other?\n",
        "\n",
        "**Discuss with your instructor what you got and also...**\n",
        "\n",
        "What is more problematic? False positives or False negatives?\n",
        "\n",
        "Which of these metrics do we want to keep low?\n",
        "\n",
        "**Optional challenge exercises:**\n",
        "- Create a function to calculate [precision and recall](https://en.wikipedia.org/wiki/Precision_and_recall). Which one do you care about more?\n",
        "- Experiment with your models to find one that optimizes for what you care about, not just accuracy!**"
      ]
    },
    {
      "cell_type": "markdown",
      "metadata": {
        "id": "u8KmugJ_N9BQ"
      },
      "source": [
        "# Fin!\n"
      ]
    },
    {
      "cell_type": "markdown",
      "metadata": {
        "id": "RV85QOOGQ2xm"
      },
      "source": [
        "To recap, we built neural network models to see if we can do better than our baseline models performed. It turns out that we can! And, also, by introducing convolutions to our networks (making the convolutional neural networks), we can improve by quite a lot. Finally, we employed pretrained 'expert' models to boost our performance even further.\n",
        "\n",
        "In the next section, we'll test out our models on actual field data!"
      ]
    },
    {
      "cell_type": "markdown",
      "metadata": {
        "id": "14rKID6MOo4N"
      },
      "source": [
        "![](https://storage.googleapis.com/kaggle-competitions/kaggle/10338/logos/header.png)"
      ]
    }
  ]
}