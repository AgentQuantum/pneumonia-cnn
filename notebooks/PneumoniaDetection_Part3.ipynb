{
  "nbformat": 4,
  "nbformat_minor": 0,
  "metadata": {
    "colab": {
      "provenance": [],
      "collapsed_sections": [
        "VdJhwDjBb1U_",
        "45zKW1NjS4aV"
      ],
      "include_colab_link": true
    },
    "kernelspec": {
      "name": "python3",
      "display_name": "Python 3"
    },
    "accelerator": "GPU"
  },
  "cells": [
    {
      "cell_type": "markdown",
      "metadata": {
        "id": "view-in-github",
        "colab_type": "text"
      },
      "source": [
        "<a href=\"https://colab.research.google.com/github/CrisZayn22/pneumonia-cnn/blob/main/notebooks/PneumoniaDetection_Part3.ipynb\" target=\"_parent\"><img src=\"https://colab.research.google.com/assets/colab-badge.svg\" alt=\"Open In Colab\"/></a>"
      ]
    },
    {
      "cell_type": "markdown",
      "metadata": {
        "id": "Nim7KW49HbU5"
      },
      "source": [
        "![](https://storage.googleapis.com/kaggle-competitions/kaggle/10338/logos/header.png)"
      ]
    },
    {
      "cell_type": "markdown",
      "metadata": {
        "id": "fPcvBlSiLXng"
      },
      "source": [
        "In this notebook, we'll try out our model on field data - data outside our normal testing and training data! We'll also learn techniques for data augmentation, creating new \"fake data\" so that our model can generalize more effectively."
      ]
    },
    {
      "cell_type": "markdown",
      "metadata": {
        "id": "Tsa9kzHFh4yU"
      },
      "source": [
        "In this notebook we'll be:\n",
        "1.   Putting our ML models into practice\n",
        "2.   Improving our ML models\n",
        "\n"
      ]
    },
    {
      "cell_type": "code",
      "metadata": {
        "id": "LFWVfZctvmPS",
        "colab": {
          "base_uri": "https://localhost:8080/"
        },
        "outputId": "e7bbbd81-6e4a-4af1-f771-2b3015f5985f"
      },
      "source": [
        "#@title Run this to download data and prepare our environment! { display-mode: \"form\" }\n",
        "# %tensorflow_version 1.x\n",
        "import random\n",
        "\n",
        "import gdown\n",
        "import zipfile\n",
        "\n",
        "import os\n",
        "import numpy as np\n",
        "import pandas as pd\n",
        "\n",
        "import seaborn as sns\n",
        "import matplotlib.pyplot as plt\n",
        "\n",
        "from sklearn.metrics import accuracy_score, confusion_matrix\n",
        "\n",
        "import tensorflow as tf\n",
        "import tensorflow_hub as hub\n",
        "\n",
        "import tensorflow.keras as keras\n",
        "from keras.models import Sequential\n",
        "from keras.layers import Activation, MaxPooling2D, Dropout, Flatten, Reshape, Dense, Conv2D, GlobalAveragePooling2D\n",
        "from keras.regularizers import l2\n",
        "from keras.wrappers.scikit_learn import KerasClassifier\n",
        "import tensorflow.keras.optimizers as optimizers\n",
        "from keras.callbacks import ModelCheckpoint\n",
        "\n",
        "from keras.applications.vgg16 import VGG16\n",
        "from keras.applications.vgg19 import VGG19\n",
        "from tensorflow.keras.applications.resnet50 import ResNet50\n",
        "from keras.applications.densenet import DenseNet121\n",
        "\n",
        "from imgaug import augmenters\n",
        "def augment(data, augmenter):\n",
        "  if len(data.shape) == 3:\n",
        "    return augmenter.augment_image(data)\n",
        "  if len(data.shape) == 4:\n",
        "    return augmenter.augment_images(data)\n",
        "\n",
        "def rotate(data, rotate):\n",
        "  fun = augmenters.Affine(rotate = rotate)\n",
        "  return augment(data, fun)\n",
        "\n",
        "def shear(data, shear):\n",
        "  fun = augmenters.Affine(shear = shear)\n",
        "  return augment(data, fun)\n",
        "\n",
        "def scale(data, scale):\n",
        "  fun = augmenters.Affine(scale = scale)\n",
        "  return augment(data, fun)\n",
        "\n",
        "def flip_left_right(data, prob):\n",
        "  fun = augmenters.Fliplr(p = prob)\n",
        "  return augment(data, fun)\n",
        "\n",
        "def flip_up_down(data, prob):\n",
        "  fun = augmenters.Flipud(p = prob)\n",
        "  return augment(data, fun)\n",
        "\n",
        "def remove_color(data, channel):\n",
        "  new_data = data.copy()\n",
        "  if len(data.shape) == 3:\n",
        "    new_data[:,:,channel] = 0\n",
        "    return new_data\n",
        "  if len(data.shape) == 4:\n",
        "    new_data[:,:,:,channel] = 0\n",
        "    return new_data\n",
        "\n",
        "class pkg:\n",
        "  #### DOWNLOADING AND LOADING DATA\n",
        "  def get_metadata(metadata_path, which_splits = ['train', 'test']):\n",
        "    '''returns metadata dataframe which contains columns of:\n",
        "       * index: index of data into numpy data\n",
        "       * class: class of image\n",
        "       * split: which dataset split is this a part of?\n",
        "    '''\n",
        "    metadata = pd.read_csv(metadata_path)\n",
        "    keep_idx = metadata['split'].isin(which_splits)\n",
        "    return metadata[keep_idx]\n",
        "\n",
        "  def get_data_split(split_name, flatten, all_data, metadata, image_shape):\n",
        "    '''\n",
        "    returns images (data), labels from folder of format [image_folder]/[split_name]/[class_name]/\n",
        "    flattens if flatten option is True\n",
        "    '''\n",
        "    sub_df = metadata[metadata['split'].isin([split_name])]\n",
        "    index  = sub_df['index'].values\n",
        "    labels = sub_df['class'].values\n",
        "    data = all_data[index,:]\n",
        "    if flatten:\n",
        "      data = data.reshape([-1, np.product(image_shape)])\n",
        "    return data, labels\n",
        "\n",
        "  def get_train_data(flatten, all_data, metadata, image_shape):\n",
        "    return get_data_split('train', flatten, all_data, metadata, image_shape)\n",
        "\n",
        "  def get_test_data(flatten, all_data, metadata, image_shape):\n",
        "    return get_data_split('test', flatten, all_data, metadata, image_shape)\n",
        "\n",
        "  def get_field_data(flatten, all_data, metadata, image_shape):\n",
        "    field_data, field_labels = get_data_split('field', flatten, all_data, metadata, image_shape)\n",
        "    field_data[:,:,:,2] = field_data[:,:,:,0]\n",
        "    field_data[:,:,:,1] = field_data[:,:,:,0]\n",
        "\n",
        "    #make data messier\n",
        "    rand = random.uniform(-1, 1)\n",
        "\n",
        "    for i in range(len(field_data)):\n",
        "      image = field_data[i]\n",
        "\n",
        "      if abs(rand) < 0.5:\n",
        "        image = rotate(image, rotate = rand * 40)\n",
        "      elif abs(rand) < 0.8:\n",
        "        image = shear(image, shear = rand*40)\n",
        "      field_data[i] = image\n",
        "    return field_data, field_labels\n",
        "\n",
        "class helpers:\n",
        "  #### PLOTTING\n",
        "  def plot_one_image(data, labels = [], index = None, image_shape = [64,64,3]):\n",
        "    '''\n",
        "    if data is a single image, display that image\n",
        "\n",
        "    if data is a 4d stack of images, display that image\n",
        "    '''\n",
        "    num_dims   = len(data.shape)\n",
        "    num_labels = len(labels)\n",
        "\n",
        "    # reshape data if necessary\n",
        "    if num_dims == 1:\n",
        "      data = data.reshape(target_shape)\n",
        "    if num_dims == 2:\n",
        "      data = data.reshape(np.vstack[-1, image_shape])\n",
        "    num_dims   = len(data.shape)\n",
        "\n",
        "    # check if single or multiple images\n",
        "    if num_dims == 3:\n",
        "      if num_labels > 1:\n",
        "        print('Multiple labels does not make sense for single image.')\n",
        "        return\n",
        "\n",
        "      label = labels\n",
        "      if num_labels == 0:\n",
        "        label = ''\n",
        "      image = data\n",
        "\n",
        "    if num_dims == 4:\n",
        "      image = data[index, :]\n",
        "      label = labels[index]\n",
        "\n",
        "    # plot image of interest\n",
        "    print('Label: %s'%label)\n",
        "    plt.imshow(image)\n",
        "    plt.show()\n",
        "\n",
        "  #### QUERYING AND COMBINING DATA\n",
        "  def get_misclassified_data(data, labels, predictions):\n",
        "    '''\n",
        "    Gets the data and labels that are misclassified in a classification task\n",
        "    Returns:\n",
        "    -missed_data\n",
        "    -missed_labels\n",
        "    -predicted_labels (corresponding to missed_labels)\n",
        "    -missed_index (indices of items in original dataset)\n",
        "    '''\n",
        "    missed_index     = np.where(np.abs(predictions.squeeze() - labels.squeeze()) > 0)[0]\n",
        "    missed_labels    = labels[missed_index]\n",
        "    missed_data      = data[missed_index,:]\n",
        "    predicted_labels = predictions[missed_index]\n",
        "    return missed_data, missed_labels, predicted_labels, missed_index\n",
        "\n",
        "  def combine_data(data_list, labels_list):\n",
        "    return np.concatenate(data_list, axis = 0), np.concatenate(labels_list, axis = 0)\n",
        "\n",
        "  def plot_acc(history, ax = None, xlabel = 'Epoch #'):\n",
        "    # i'm sorry for this function's code. i am so sorry.\n",
        "    history = history.history\n",
        "    history.update({'epoch':list(range(len(history['val_accuracy'])))})\n",
        "    history = pd.DataFrame.from_dict(history)\n",
        "\n",
        "    best_epoch = history.sort_values(by = 'val_accuracy', ascending = False).iloc[0]['epoch']\n",
        "\n",
        "    if not ax:\n",
        "      f, ax = plt.subplots(1,1)\n",
        "    sns.lineplot(x = 'epoch', y = 'val_accuracy', data = history, label = 'Validation', ax = ax)\n",
        "    sns.lineplot(x = 'epoch', y = 'accuracy', data = history, label = 'Training', ax = ax)\n",
        "    ax.axhline(0.5, linestyle = '--',color='red', label = 'Chance')\n",
        "    ax.axvline(x = best_epoch, linestyle = '--', color = 'green', label = 'Best Epoch')\n",
        "    ax.legend(loc = 4)\n",
        "    ax.set_ylim([0.4, 1])\n",
        "\n",
        "    ax.set_xlabel(xlabel)\n",
        "    ax.set_ylabel('Accuracy (Fraction)')\n",
        "\n",
        "    plt.show()\n",
        "\n",
        "class models:\n",
        "  def DenseClassifier(hidden_layer_sizes, nn_params):\n",
        "    model = Sequential()\n",
        "    model.add(Flatten(input_shape = nn_params['input_shape']))\n",
        "    model.add(Dropout(0.5))\n",
        "\n",
        "    for ilayer in hidden_layer_sizes:\n",
        "      model.add(Dense(ilayer, activation = 'relu'))\n",
        "      model.add(Dropout(0.5))\n",
        "\n",
        "    model.add(Dense(units = nn_params['output_neurons'], activation = nn_params['output_activation']))\n",
        "    model.compile(loss=nn_params['loss'],\n",
        "                  optimizer=keras.optimizers.SGD(learning_rate=1e-4, momentum=0.95),\n",
        "                  metrics=['accuracy'])\n",
        "    return model\n",
        "\n",
        "  def CNNClassifier(num_hidden_layers, nn_params):\n",
        "    model = Sequential()\n",
        "\n",
        "    model.add(Conv2D(32, (3, 3), input_shape=nn_params['input_shape'], padding = 'same', kernel_regularizer=l2(0.01), bias_regularizer=l2(0.01)))\n",
        "    model.add(Activation('relu'))\n",
        "    model.add(MaxPooling2D(pool_size=(2, 2)))\n",
        "\n",
        "    for i in range(num_hidden_layers-1):\n",
        "        model.add(Conv2D(64, (3, 3), padding = 'same', kernel_regularizer=l2(0.01), bias_regularizer=l2(0.01)))\n",
        "        model.add(Activation('relu'))\n",
        "        model.add(MaxPooling2D(pool_size=(2, 2)))\n",
        "\n",
        "    model.add(Flatten())\n",
        "\n",
        "    model.add(Dense(units = 128, activation = 'relu'))\n",
        "    model.add(Dropout(0.5))\n",
        "    model.add(Dense(units = 64, activation = 'relu', kernel_regularizer=l2(0.01), bias_regularizer=l2(0.01)))\n",
        "    model.add(Dropout(0.5))\n",
        "\n",
        "    model.add(Dense(units = nn_params['output_neurons'], activation = nn_params['output_activation']))\n",
        "\n",
        "    # initiate RMSprop optimizer\n",
        "    opt = keras.optimizers.RMSprop(learning_rate=1e-5, decay=1e-6)\n",
        "\n",
        "    # Let's train the model using RMSprop\n",
        "    model.compile(loss=nn_params['loss'],\n",
        "                  optimizer=opt,\n",
        "                  metrics=['accuracy'])\n",
        "    return model\n",
        "\n",
        "  def TransferClassifier(name, nn_params, trainable = True):\n",
        "    expert_dict = {'VGG16': VGG16,\n",
        "                   'VGG19': VGG19,\n",
        "                   'ResNet50':ResNet50,\n",
        "                   'DenseNet121':DenseNet121}\n",
        "\n",
        "    expert_conv = expert_dict[name](weights = 'imagenet',\n",
        "                                              include_top = False,\n",
        "                                              input_shape = nn_params['input_shape'])\n",
        "    for layer in expert_conv.layers:\n",
        "      layer.trainable = trainable\n",
        "\n",
        "    expert_model = Sequential()\n",
        "    expert_model.add(expert_conv)\n",
        "    expert_model.add(GlobalAveragePooling2D())\n",
        "\n",
        "    expert_model.add(Dense(128, activation = 'relu'))\n",
        "    expert_model.add(Dropout(0.5))\n",
        "\n",
        "    expert_model.add(Dense(64, activation = 'relu'))\n",
        "    expert_model.add(Dropout(0.5))\n",
        "\n",
        "    expert_model.add(Dense(nn_params['output_neurons'], activation = nn_params['output_activation']))\n",
        "\n",
        "    expert_model.compile(loss = nn_params['loss'],\n",
        "                  optimizer = keras.optimizers.SGD(learning_rate=1e-4, momentum=0.9),\n",
        "                  metrics=['accuracy'])\n",
        "\n",
        "    return expert_model\n",
        "\n",
        "### defining project variables\n",
        "# file variables\n",
        "metadata_url         = \"https://storage.googleapis.com/inspirit-ai-data-bucket-1/Data/AI%20Scholars/Sessions%206%20-%2010%20(Projects)/Project%20-%20(Healthcare%20A)%20Pneumonia/metadata.csv\"\n",
        "image_data_url       = 'https://storage.googleapis.com/inspirit-ai-data-bucket-1/Data/AI%20Scholars/Sessions%206%20-%2010%20(Projects)/Project%20-%20(Healthcare%20A)%20Pneumonia/image_data.npy'\n",
        "image_data_path      = './image_data.npy'\n",
        "metadata_path        = './metadata.csv'\n",
        "image_shape          = (64, 64, 3)\n",
        "\n",
        "# neural net parameters\n",
        "nn_params = {}\n",
        "nn_params['input_shape']       = image_shape\n",
        "nn_params['output_neurons']    = 1\n",
        "nn_params['loss']              = 'binary_crossentropy'\n",
        "nn_params['output_activation'] = 'sigmoid'\n",
        "\n",
        "###\n",
        "# gdown.download(image_data_url, './image_data.npy', True)\n",
        "# gdown.download(metadata_url, './metadata.csv', True)\n",
        "!wget \"https://storage.googleapis.com/inspirit-ai-data-bucket-1/Data/AI%20Scholars/Sessions%206%20-%2010%20(Projects)/Project%20-%20(Healthcare%20A)%20Pneumonia/metadata.csv\"\n",
        "!wget \"https://storage.googleapis.com/inspirit-ai-data-bucket-1/Data/AI%20Scholars/Sessions%206%20-%2010%20(Projects)/Project%20-%20(Healthcare%20A)%20Pneumonia/image_data.npy\"\n",
        "\n",
        "\n",
        "### pre-loading all data of interest\n",
        "_all_data = np.load('image_data.npy')\n",
        "_metadata = pkg.get_metadata(metadata_path, ['train','test','field'])\n",
        "\n",
        "### preparing definitions\n",
        "# downloading and loading data\n",
        "get_data_split = pkg.get_data_split\n",
        "get_metadata    = lambda :                 pkg.get_metadata(metadata_path, ['train','test'])\n",
        "get_train_data  = lambda flatten = False : pkg.get_train_data(flatten = flatten, all_data = _all_data, metadata = _metadata, image_shape = image_shape)\n",
        "get_test_data   = lambda flatten = False : pkg.get_test_data(flatten = flatten, all_data = _all_data, metadata = _metadata, image_shape = image_shape)\n",
        "get_field_data  = lambda flatten = False : pkg.get_field_data(flatten = flatten, all_data = _all_data, metadata = _metadata, image_shape = image_shape)\n",
        "\n",
        "# plotting\n",
        "plot_one_image = lambda data, labels = [], index = None: helpers.plot_one_image(data = data, labels = labels, index = index, image_shape = image_shape);\n",
        "plot_acc       = lambda history: helpers.plot_acc(history)\n",
        "\n",
        "# querying and combining data\n",
        "get_misclassified_data = helpers.get_misclassified_data;\n",
        "combine_data           = helpers.combine_data;\n",
        "\n",
        "# models with input parameters\n",
        "DenseClassifier     = lambda hidden_layer_sizes: models.DenseClassifier(hidden_layer_sizes = hidden_layer_sizes, nn_params = nn_params);\n",
        "CNNClassifier       = lambda num_hidden_layers: models.CNNClassifier(num_hidden_layers, nn_params = nn_params);\n",
        "TransferClassifier  = lambda name: models.TransferClassifier(name = name, nn_params = nn_params);\n",
        "\n",
        "monitor = ModelCheckpoint('./model.h5', monitor='val_accuracy', verbose=0, save_best_only=True, save_weights_only=False, mode='auto', save_freq='epoch')"
      ],
      "execution_count": null,
      "outputs": [
        {
          "output_type": "stream",
          "name": "stdout",
          "text": [
            "--2023-01-02 17:30:58--  https://storage.googleapis.com/inspirit-ai-data-bucket-1/Data/AI%20Scholars/Sessions%206%20-%2010%20(Projects)/Project%20-%20(Healthcare%20A)%20Pneumonia/metadata.csv\n",
            "Resolving storage.googleapis.com (storage.googleapis.com)... 108.177.127.128, 172.217.218.128, 142.250.145.128, ...\n",
            "Connecting to storage.googleapis.com (storage.googleapis.com)|108.177.127.128|:443... connected.\n",
            "HTTP request sent, awaiting response... 200 OK\n",
            "Length: 40508 (40K) [text/csv]\n",
            "Saving to: ‘metadata.csv’\n",
            "\n",
            "\rmetadata.csv          0%[                    ]       0  --.-KB/s               \rmetadata.csv        100%[===================>]  39.56K  --.-KB/s    in 0s      \n",
            "\n",
            "2023-01-02 17:30:58 (152 MB/s) - ‘metadata.csv’ saved [40508/40508]\n",
            "\n",
            "--2023-01-02 17:30:58--  https://storage.googleapis.com/inspirit-ai-data-bucket-1/Data/AI%20Scholars/Sessions%206%20-%2010%20(Projects)/Project%20-%20(Healthcare%20A)%20Pneumonia/image_data.npy\n",
            "Resolving storage.googleapis.com (storage.googleapis.com)... 108.177.127.128, 172.217.218.128, 142.250.145.128, ...\n",
            "Connecting to storage.googleapis.com (storage.googleapis.com)|108.177.127.128|:443... connected.\n",
            "HTTP request sent, awaiting response... 200 OK\n",
            "Length: 137625728 (131M) [application/octet-stream]\n",
            "Saving to: ‘image_data.npy’\n",
            "\n",
            "image_data.npy      100%[===================>] 131.25M  39.5MB/s    in 3.8s    \n",
            "\n",
            "2023-01-02 17:31:02 (35.0 MB/s) - ‘image_data.npy’ saved [137625728/137625728]\n",
            "\n"
          ]
        }
      ]
    },
    {
      "cell_type": "markdown",
      "metadata": {
        "id": "wuUfPXfZNf7w"
      },
      "source": [
        "# Milestone 1: Putting our model into practice"
      ]
    },
    {
      "cell_type": "code",
      "source": [],
      "metadata": {
        "id": "kZBzDLeRBVNn"
      },
      "execution_count": null,
      "outputs": []
    },
    {
      "cell_type": "markdown",
      "metadata": {
        "id": "kK4kEOlrNkLh"
      },
      "source": [
        "## Activity 1a: Testing on Field Data\n",
        "#### While your models may have done well on your original training and validation data, deploying the model on \"field\" data can present different challenges. Field data is data that is different from the one where you built your model. For e.g. images obtained from a different x-ray machine."
      ]
    },
    {
      "cell_type": "markdown",
      "metadata": {
        "id": "JXbX8EwYNn5i"
      },
      "source": [
        "### Exercise (Coding)"
      ]
    },
    {
      "cell_type": "markdown",
      "metadata": {
        "id": "9OcX3HejNrjJ"
      },
      "source": [
        "Yesterday we worked with CNNs, which we saw perform much better than multi-layer perceptrons on imaging data.\n",
        "\n",
        "Below, please **re-train a 2-layer CNN and plot its accuracy over time!** (You can use all the functions from yesterday's code.) You can choose the number of epochs based on the graph."
      ]
    },
    {
      "cell_type": "code",
      "metadata": {
        "id": "lLos8L1KnCe3",
        "colab": {
          "base_uri": "https://localhost:8080/",
          "height": 995
        },
        "outputId": "2fa0d072-38eb-4d8c-fdbf-b1801aa2db25"
      },
      "source": [
        "train_data, train_labels = get_train_data()\n",
        "test_data, test_labels   = get_test_data()\n",
        "\n",
        "#Create Classifier\n",
        "model=CNNClassifier(num_hidden_layers=2)\n",
        "\n",
        "#Training/Fitting\n",
        "model_history=model.fit(train_data, train_labels, epochs=20, validation_data=(test_data, test_labels))\n",
        "\n",
        "#Predict\n",
        "prediction=model.predict(test_data)\n",
        "\n",
        "#Plot\n",
        "plot_acc(model_history)"
      ],
      "execution_count": null,
      "outputs": [
        {
          "output_type": "stream",
          "name": "stdout",
          "text": [
            "Epoch 1/20\n",
            "63/63 [==============================] - 11s 14ms/step - loss: 2.0287 - accuracy: 0.4810 - val_loss: 2.0064 - val_accuracy: 0.6025\n",
            "Epoch 2/20\n",
            "63/63 [==============================] - 1s 8ms/step - loss: 1.9954 - accuracy: 0.5440 - val_loss: 1.9779 - val_accuracy: 0.7700\n",
            "Epoch 3/20\n",
            "63/63 [==============================] - 1s 9ms/step - loss: 1.9666 - accuracy: 0.6135 - val_loss: 1.9507 - val_accuracy: 0.6350\n",
            "Epoch 4/20\n",
            "63/63 [==============================] - 1s 8ms/step - loss: 1.9322 - accuracy: 0.6515 - val_loss: 1.9226 - val_accuracy: 0.7150\n",
            "Epoch 5/20\n",
            "63/63 [==============================] - 1s 8ms/step - loss: 1.9078 - accuracy: 0.6690 - val_loss: 1.8980 - val_accuracy: 0.7900\n",
            "Epoch 6/20\n",
            "63/63 [==============================] - 1s 9ms/step - loss: 1.8823 - accuracy: 0.6875 - val_loss: 1.8689 - val_accuracy: 0.7975\n",
            "Epoch 7/20\n",
            "63/63 [==============================] - 1s 8ms/step - loss: 1.8508 - accuracy: 0.7130 - val_loss: 1.8516 - val_accuracy: 0.8125\n",
            "Epoch 8/20\n",
            "63/63 [==============================] - 1s 8ms/step - loss: 1.8232 - accuracy: 0.7330 - val_loss: 1.8203 - val_accuracy: 0.8300\n",
            "Epoch 9/20\n",
            "63/63 [==============================] - 1s 8ms/step - loss: 1.7945 - accuracy: 0.7600 - val_loss: 1.7948 - val_accuracy: 0.8325\n",
            "Epoch 10/20\n",
            "63/63 [==============================] - 1s 9ms/step - loss: 1.7681 - accuracy: 0.7695 - val_loss: 1.7674 - val_accuracy: 0.8375\n",
            "Epoch 11/20\n",
            "63/63 [==============================] - 1s 8ms/step - loss: 1.7401 - accuracy: 0.7855 - val_loss: 1.7418 - val_accuracy: 0.8350\n",
            "Epoch 12/20\n",
            "63/63 [==============================] - 1s 8ms/step - loss: 1.7140 - accuracy: 0.7910 - val_loss: 1.7179 - val_accuracy: 0.8450\n",
            "Epoch 13/20\n",
            "63/63 [==============================] - 1s 9ms/step - loss: 1.6875 - accuracy: 0.8020 - val_loss: 1.6936 - val_accuracy: 0.8575\n",
            "Epoch 14/20\n",
            "63/63 [==============================] - 1s 16ms/step - loss: 1.6670 - accuracy: 0.8000 - val_loss: 1.6732 - val_accuracy: 0.8425\n",
            "Epoch 15/20\n",
            "63/63 [==============================] - 1s 10ms/step - loss: 1.6351 - accuracy: 0.8395 - val_loss: 1.6381 - val_accuracy: 0.8600\n",
            "Epoch 16/20\n",
            "63/63 [==============================] - 1s 14ms/step - loss: 1.6131 - accuracy: 0.8240 - val_loss: 1.6163 - val_accuracy: 0.8625\n",
            "Epoch 17/20\n",
            "63/63 [==============================] - 1s 12ms/step - loss: 1.5945 - accuracy: 0.8315 - val_loss: 1.6050 - val_accuracy: 0.8350\n",
            "Epoch 18/20\n",
            "63/63 [==============================] - 1s 14ms/step - loss: 1.5632 - accuracy: 0.8420 - val_loss: 1.5733 - val_accuracy: 0.8625\n",
            "Epoch 19/20\n",
            "63/63 [==============================] - 1s 11ms/step - loss: 1.5421 - accuracy: 0.8500 - val_loss: 1.5615 - val_accuracy: 0.8400\n",
            "Epoch 20/20\n",
            "63/63 [==============================] - 1s 8ms/step - loss: 1.5097 - accuracy: 0.8595 - val_loss: 1.5486 - val_accuracy: 0.8375\n",
            "13/13 [==============================] - 0s 3ms/step\n"
          ]
        },
        {
          "output_type": "display_data",
          "data": {
            "text/plain": [
              "<Figure size 432x288 with 1 Axes>"
            ],
            "image/png": "[encoded data removed]"
          },
          "metadata": {
            "needs_background": "light"
          }
        }
      ]
    },
    {
      "cell_type": "code",
      "source": [],
      "metadata": {
        "id": "UrMjrfEDIroy"
      },
      "execution_count": null,
      "outputs": []
    },
    {
      "cell_type": "markdown",
      "metadata": {
        "id": "3aoowqx5Np9n"
      },
      "source": [
        "### Exercise (Coding)"
      ]
    },
    {
      "cell_type": "markdown",
      "metadata": {
        "id": "JpWnKw_IPIr1"
      },
      "source": [
        "Our radiologist friends have provided us with some new data from the field. We can access this with `get_field_data()`.\n",
        "\n",
        "Please create **field_data** and **field_labels**."
      ]
    },
    {
      "cell_type": "code",
      "metadata": {
        "id": "NjyXgqtizcJy"
      },
      "source": [
        "#YOUR CODE HERE"
      ],
      "execution_count": null,
      "outputs": []
    },
    {
      "cell_type": "markdown",
      "metadata": {
        "id": "1Zp69Qbd2TGU"
      },
      "source": [
        "What accuracy do you get when you use your trained CNN on the field data? Please calculate it below (hint: `(predict() > 0.5).astype(\"int32\")`.)"
      ]
    },
    {
      "cell_type": "code",
      "metadata": {
        "id": "6EhQ-c9L2SsD"
      },
      "source": [
        "#YOUR CODE HERE"
      ],
      "execution_count": null,
      "outputs": []
    },
    {
      "cell_type": "markdown",
      "metadata": {
        "id": "JncI7hnrPQS5"
      },
      "source": [
        "**Discuss:** How does your performance on field data compare to test and train data?\n",
        "\n",
        "You've probably noticed that you get different performance every time you train your model! Let's get a sense of the average: below, please **train your model 5 times, calculate the accuracy on the field data each time, and print the average accuracy.**"
      ]
    },
    {
      "cell_type": "code",
      "metadata": {
        "id": "R7S7rncnQFSP"
      },
      "source": [
        "### YOUR CODE HERE\n",
        "\n",
        "### END CODE"
      ],
      "execution_count": null,
      "outputs": []
    },
    {
      "cell_type": "markdown",
      "metadata": {
        "id": "Hf7xfFv9PwrF"
      },
      "source": [
        "## Activity 1b: Understanding our model's performance on field data"
      ]
    },
    {
      "cell_type": "markdown",
      "metadata": {
        "id": "VdJhwDjBb1U_"
      },
      "source": [
        "### Exercise (Discussion)\n",
        "Discuss this with your instructor:\n",
        "* How did your model do? Did it perform quite as well?\n",
        "* Why do you think it did this way?\n",
        "* **Come up with a few hypotheses for what's different between our test data and our field data!**"
      ]
    },
    {
      "cell_type": "markdown",
      "metadata": {
        "id": "pILpz1SScRRl"
      },
      "source": [
        "## Activity 1c: Error analysis\n",
        "\n",
        "### Understanding where the model did not perform as well"
      ]
    },
    {
      "cell_type": "markdown",
      "metadata": {
        "id": "vjo7cW5kP14m"
      },
      "source": [
        "### Exercise (Coding)"
      ]
    },
    {
      "cell_type": "markdown",
      "metadata": {
        "id": "pOmLO3M4P3XO"
      },
      "source": [
        "Since our `field_data` comes from the field, it's possible that it's different from `train_data` and `test_data` in some important ways!\n",
        "\n",
        "Let's compare a few images. Below, please use a `for` loop and `plot_one_image(data, labels, index)` to print out a few images from the different datasets.\n",
        "\n",
        "**Do you notice any differences in the datasets?**\n",
        "\n",
        "\n"
      ]
    },
    {
      "cell_type": "code",
      "metadata": {
        "id": "qIXblKdjSnCe",
        "cellView": "both"
      },
      "source": [
        "#YOUR CODE HERE\n",
        "\n",
        "### END CODE"
      ],
      "execution_count": null,
      "outputs": []
    },
    {
      "cell_type": "markdown",
      "metadata": {
        "id": "45zKW1NjS4aV"
      },
      "source": [
        "## Instructor-Led Discussion: What is happening in our field data?\n",
        "\n",
        "Discuss in your group and with your instructor:\n",
        "\n",
        "Why is our model performance suffering? What are reasons that field data could be \"messier\"?"
      ]
    },
    {
      "cell_type": "markdown",
      "metadata": {
        "id": "1NhR3Mb0Su9U"
      },
      "source": [
        "# Milestone 2: Tools to improve your models"
      ]
    },
    {
      "cell_type": "markdown",
      "metadata": {
        "id": "yhYKVx5nTL2A"
      },
      "source": [
        "## Activity 2a"
      ]
    },
    {
      "cell_type": "markdown",
      "metadata": {
        "id": "EtnanhTdTS34"
      },
      "source": [
        "### Instructor-Led Discussion: Data Augmentation\n",
        "\n",
        "We want our model to handle a broader variety of input data. One way to do this is to **augment** our data: by intentionally making some alterations to our input data, we an train our model to handle a greater variety of outputs."
      ]
    },
    {
      "cell_type": "markdown",
      "metadata": {
        "id": "Riq7peVmkUhA"
      },
      "source": [
        "### Exercise (Coding)"
      ]
    },
    {
      "cell_type": "markdown",
      "metadata": {
        "id": "KZ-CtwWseVu_"
      },
      "source": [
        "So, how do we augment our images in Python?\n",
        "\n",
        "\n",
        "We provide custom functions for augmenting a single image. Here's one example, to rotate a single image by 40 degrees. **Experiment with changing the degrees! How can you rotate left?**"
      ]
    },
    {
      "cell_type": "code",
      "metadata": {
        "id": "AAUxFajRBeC0",
        "colab": {
          "base_uri": "https://localhost:8080/",
          "height": 554
        },
        "outputId": "0dc055ec-9d90-4809-8320-0336abbf8810"
      },
      "source": [
        "image = train_data[0]\n",
        "plot_one_image(image)\n",
        "new_image = rotate(image, rotate = 40)\n",
        "plot_one_image(new_image)"
      ],
      "execution_count": null,
      "outputs": [
        {
          "output_type": "stream",
          "name": "stdout",
          "text": [
            "Label: \n"
          ]
        },
        {
          "output_type": "display_data",
          "data": {
            "text/plain": [
              "<Figure size 432x288 with 1 Axes>"
            ],
            "image/png": "[encoded data removed]"
          },
          "metadata": {
            "needs_background": "light"
          }
        },
        {
          "output_type": "stream",
          "name": "stdout",
          "text": [
            "Label: \n"
          ]
        },
        {
          "output_type": "display_data",
          "data": {
            "text/plain": [
              "<Figure size 432x288 with 1 Axes>"
            ],
            "image/png": "[encoded data removed]"
          },
          "metadata": {
            "needs_background": "light"
          }
        }
      ]
    },
    {
      "cell_type": "markdown",
      "metadata": {
        "id": "d1lhczlEHg5y"
      },
      "source": [
        "\n",
        "Here's some more image transformation options:\n",
        "* `rotate(image, rotate = 30)`\n",
        "* `scale(image, scale = 1.5)`\n",
        "* `shear(image, shear = 20)`\n",
        "* `flip_left_right(image, prob = 0.5)`\n",
        "* `flip_up_down(image, prob = 0.5)`\n",
        "* `remove_color(data, channel = 0)`\n",
        "\n",
        "Try it out below!"
      ]
    },
    {
      "cell_type": "code",
      "metadata": {
        "id": "f5FcaWcBHkTj"
      },
      "source": [
        "#YOUR CODE HERE"
      ],
      "execution_count": null,
      "outputs": []
    },
    {
      "cell_type": "markdown",
      "metadata": {
        "id": "7LN3ZQkTBdND"
      },
      "source": [
        "Now, experiment with these options!\n",
        "\n",
        "**Share some of your cool augmentation strategies with the class! You can definitely use multiple augmentation techniques for each image!**"
      ]
    },
    {
      "cell_type": "code",
      "metadata": {
        "id": "EOEkYlf5gquP"
      },
      "source": [
        "### YOUR CODE HERE\n",
        "\n",
        "### END CODE"
      ],
      "execution_count": null,
      "outputs": []
    },
    {
      "cell_type": "markdown",
      "metadata": {
        "id": "ihblU152Wapd"
      },
      "source": [
        "## Activity 2b."
      ]
    },
    {
      "cell_type": "markdown",
      "metadata": {
        "id": "bfVDv1P3abu_"
      },
      "source": [
        "### Exercise (Coding)"
      ]
    },
    {
      "cell_type": "markdown",
      "metadata": {
        "id": "gL9yThE1IZ79"
      },
      "source": [
        "Now, let's create some augmented datasets of our own! We'll combine the augmented data with the original. Here's how you make an augmented dataset:"
      ]
    },
    {
      "cell_type": "code",
      "metadata": {
        "id": "e3kx7OWyIh4k"
      },
      "source": [
        "train_data_rotated_10 = rotate(train_data, rotate=10)"
      ],
      "execution_count": null,
      "outputs": []
    },
    {
      "cell_type": "markdown",
      "metadata": {
        "id": "JPZ5862WI-rP"
      },
      "source": [
        "Please make some more augmented datasets below!"
      ]
    },
    {
      "cell_type": "code",
      "metadata": {
        "id": "ZSa-lSC4JDxO"
      },
      "source": [
        "train_data_rotated_10 = rotate(train_data, rotate=10)\n",
        "\n",
        "###YOUR CODE HERE to create more augmented datasets"
      ],
      "execution_count": null,
      "outputs": []
    },
    {
      "cell_type": "markdown",
      "metadata": {
        "id": "eNX_jC9eIJFL"
      },
      "source": [
        "\n",
        "\n",
        "Finally, to combine your original train data with your augmented data, you can use the `combine_data` function like this:\n",
        "```\n",
        "all_data, all_labels = combine_data([data1, data2], [labels1, labels2])\n",
        "```\n",
        "\n",
        "(You can include as many datasets as you like in the list. What should you use for the new labels?)\n",
        "\n",
        "Please create `all_data` and `all_labels` below:"
      ]
    },
    {
      "cell_type": "code",
      "metadata": {
        "id": "4C7yqCoAW5qs"
      },
      "source": [
        "#YOUR CODE HERE\n",
        "\n",
        "### END CODE"
      ],
      "execution_count": null,
      "outputs": []
    },
    {
      "cell_type": "markdown",
      "metadata": {
        "id": "n4y0BFbJYf1k"
      },
      "source": [
        "Once you've created your augmented data...\n",
        "1. Train your CNN on `all_data`\n",
        "2. Choose the best epoch based on the `test_data`!\n",
        "3. Load your model up and score it on `field_data`.\n",
        "\n",
        "**Your challenge is to find a set of augmentations that improves your model's performance on the `field_data`! Share your augmentations and performances with the class! Try as many or as few augmentations as you want.**\n",
        "\n",
        "**Remember to record an average of 5 newly initialized CNNs. This is important because CNN weights will be initialized differently in each run!**"
      ]
    },
    {
      "cell_type": "code",
      "metadata": {
        "id": "v453qnBB-Y9e"
      },
      "source": [
        "train_data, train_labels = get_train_data()\n",
        "test_data, test_labels   = get_test_data()\n",
        "field_data, field_labels   = get_field_data()\n",
        "\n",
        "### YOUR CODE HERE\n",
        "\n",
        "\n",
        "### END CODE"
      ],
      "execution_count": null,
      "outputs": []
    },
    {
      "cell_type": "code",
      "source": [
        "validation_split = 0.2"
      ],
      "metadata": {
        "id": "436fpGGsEYfa"
      },
      "execution_count": null,
      "outputs": []
    },
    {
      "cell_type": "code",
      "source": [
        "cd /content/drive/MyDrive/Buffml"
      ],
      "metadata": {
        "colab": {
          "base_uri": "https://localhost:8080/"
        },
        "id": "d_IMsf0C2WSW",
        "outputId": "0eb69be7-2c60-43bb-eeef-ac8c07f0d6d1"
      },
      "execution_count": null,
      "outputs": [
        {
          "output_type": "stream",
          "name": "stdout",
          "text": [
            "/content/drive/MyDrive/Buffml\n"
          ]
        }
      ]
    },
    {
      "cell_type": "code",
      "source": [
        "from google.colab import drive\n",
        "drive.mount('/content/drive')"
      ],
      "metadata": {
        "colab": {
          "base_uri": "https://localhost:8080/"
        },
        "id": "oHjIzqb54nnh",
        "outputId": "58b2c4b5-00a7-416c-e222-ed34beba44ac"
      },
      "execution_count": null,
      "outputs": [
        {
          "output_type": "stream",
          "name": "stdout",
          "text": [
            "Mounted at /content/drive\n"
          ]
        }
      ]
    },
    {
      "cell_type": "code",
      "source": [
        "import pickle\n",
        "\n",
        "import absl.logging\n",
        "absl.logging.set_verbosity(absl.logging.ERROR)\n",
        "import time\n",
        "t = time.time()\n",
        "\n",
        "export_path = \"/tmp/saved_models/{}\".format(int(t))\n",
        "tf.keras.models.save_model(model, export_path)\n",
        "\n",
        "export_path\n",
        "\n",
        "# Now confirm that we can reload it, and it still gives the same results\n",
        "reloaded = tf.keras.models.load_model(export_path, custom_objects={'KerasLayer': hub.KerasLayer})\n",
        "\n",
        "def predict_reload(image):\n",
        "    probabilities = reloaded.predict(np.asarray([img]))[0]\n",
        "    class_idx = np.argmax(probabilities)\n",
        "\n",
        "    return {Labels[class_idx]: probabilities[class_idx]}\n",
        "\n",
        "\n",
        "    for idx, filename in enumerate(random.sample(validation_generator.filenames, 2)):\n",
        "       print(\"SOURCE: class: %s, file: %s\" % (os.path.split(filename)[0], filename))\n",
        "\n",
        "    img = upload(filename)\n",
        "    prediction = predict_reload(img)\n",
        "    print(\"PREDICTED: class: %s, confidence: %f\" % (list(prediction.keys())[0], list(prediction.values())[0]))\n",
        "    plt.imshow(img)\n",
        "    plt.figure(idx)\n",
        "    plt.show()\n",
        "\n",
        "# convert the model to TFLite\n",
        "!mkdir \"tflite_models9\"\n",
        "TFLITE_MODEL = \"tflite_models/model.tflite\"\n",
        "\n",
        "\n",
        "# Get the concrete function from the Keras model.\n",
        "run_model = tf.function(lambda x : reloaded(x))\n",
        "\n",
        "# Save the concrete function.\n",
        "concrete_func = run_model.get_concrete_function(\n",
        "    tf.TensorSpec(model.inputs[0].shape, model.inputs[0].dtype)\n",
        ")\n",
        "\n",
        "# Convert the model to standard TensorFlow Lite model\n",
        "converter = tf.lite.TFLiteConverter.from_concrete_functions([concrete_func], model)\n",
        "converted_tflite_model = converter.convert()\n",
        "\n",
        "\n",
        "open('model.tflite', \"wb\").write(converted_tflite_model)\n"
      ],
      "metadata": {
        "colab": {
          "base_uri": "https://localhost:8080/"
        },
        "id": "slu7m1fKx1dR",
        "outputId": "4953680b-326d-4b2d-ff2a-141dda512903"
      },
      "execution_count": null,
      "outputs": [
        {
          "output_type": "stream",
          "name": "stdout",
          "text": [
            "mkdir: cannot create directory ‘tflite_models9’: File exists\n"
          ]
        },
        {
          "output_type": "execute_result",
          "data": {
            "text/plain": [
              "8503568"
            ]
          },
          "metadata": {},
          "execution_count": 11
        }
      ]
    },
    {
      "cell_type": "markdown",
      "metadata": {
        "id": "zz1pSff8xXWk"
      },
      "source": [
        "## Instructor-Led Discussion: Why does data augmentation improve average performance?"
      ]
    },
    {
      "cell_type": "markdown",
      "metadata": {
        "id": "_LkaHktp2L01"
      },
      "source": [
        "![](https://storage.googleapis.com/kaggle-competitions/kaggle/10338/logos/header.png)"
      ]
    },
    {
      "cell_type": "markdown",
      "metadata": {
        "id": "NE5Xu9QRKydm"
      },
      "source": [
        "##Congratulations on completing your model!\n",
        "\n",
        "By augmenting your data, you've (hopefully) gotten your models working better, even on messy field data!\n",
        "\n",
        "As a further challenge, you can return to any point in the challenge and try to improve:\n",
        "- Try looking at the CNN code in the hidden cell at the top. Can you change the parameters to reduce overfitting?\n",
        "- Try out different classifiers from Scikit-learn with augmented data.\n",
        "- Create new combinations of augmentations for your data.\n",
        "- Whatever ideas you come up with!"
      ]
    }
  ]
}